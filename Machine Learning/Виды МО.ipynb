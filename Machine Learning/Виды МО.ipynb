{
 "cells": [
  {
   "cell_type": "markdown",
   "metadata": {},
   "source": [
    "### Виды машинного обучения [Домашнее задание]"
   ]
  },
  {
   "cell_type": "markdown",
   "metadata": {},
   "source": [
    "Для каждой ситуации, приведенной ниже, определите, какой тип машинного обучения может быть применен ```\"supervised\"```, ```\"unsupervised\"```,  или ```\"reinforcement\"```:\n",
    "\n",
    "* Вам предоставлены данные о продажах квартир в Астане на 2019 год. Формат данных: количество комнат, год постройки, площадь, этаж, расстояние от центра города и цена. Присвойте свой ответ переменной ```prob1```.\n",
    "\n",
    "* Вы аналитик данных в интернет-магазине, у вас есть история пользователей, делающих покупки. Вы должны сегментировать пользователей на основе их покупок. Присвойте свой ответ переменной ```prob2```.\n",
    "\n",
    "* У вас есть данные о погоде, вы должны прогнозировать температуру. Присвойте свой ответ переменной ```prob3```.\n",
    "\n",
    "* У вас есть набор изображений кошек и собак с соответствующими метками «собака» и «кошка». Вы должны построить модель машинного обучения, чтобы классифицировать входящее изображение, если оно содержит «кошку» или «собаку». Присвойте свой ответ переменной ```prob4```.\n",
    "\n",
    "* Вам дали данные с обзорами фильмов и метками от 1 до 5 (от отрицательных к положительным). Присвойте свой ответ переменной ```prob5```.\n",
    "\n",
    "* Вам предоставили истории активности пользователей в социальной сети. Вы должны сегментировать пользователей на основе их деятельности. Присвойте свой ответ переменной ```prob6```.\n",
    "\n",
    "* Вам дали большое количество данных, ваша цель - сжать данные с приемлемой потерей информации. Присвойте свой ответ переменной ```prob7```.\n",
    "\n",
    "* Вы должны научить руку робота подбирать чашку со стола. Присвойте свой ответ переменной ```prob8```.\n",
    "\n",
    "* Вам предоставляются данные транзакции, которые помечены как мошеннические и обычные. Ваша цель - построить модель для классификации будущих транзакций. Присвойте свой ответ переменной ```prob9```."
   ]
  },
  {
   "cell_type": "code",
   "execution_count": 2,
   "metadata": {},
   "outputs": [
    {
     "name": "stdout",
     "output_type": "stream",
     "text": [
      "supervised\n",
      "unsupervised\n",
      "supervised\n",
      "supervised\n",
      "supervised\n",
      "unsupervised\n",
      "unsupervised\n",
      "reinforcement\n",
      "supervised\n"
     ]
    }
   ],
   "source": [
    "#Начало вашего кода\n",
    "prob1 = \"supervised\"\n",
    "prob2 = \"unsupervised\"\n",
    "prob3 = \"supervised\"\n",
    "prob4 = \"supervised\"\n",
    "prob5 = \"supervised\"\n",
    "prob6 = \"unsupervised\"\n",
    "prob7 = \"unsupervised\"\n",
    "prob8 = \"reinforcement\"\n",
    "prob9 = \"supervised\"\n",
    "#Конец вашего кода\n",
    "print(prob1)\n",
    "print(prob2)\n",
    "print(prob3)\n",
    "print(prob4)\n",
    "print(prob5)\n",
    "print(prob6)\n",
    "print(prob7)\n",
    "print(prob8)\n",
    "print(prob9)"
   ]
  },
  {
   "cell_type": "markdown",
   "metadata": {},
   "source": [
    "### Ожидаемые результаты:\n",
    "\n",
    "```\n",
    "supervised\n",
    "unsupervised\n",
    "supervised\n",
    "supervised\n",
    "supervised\n",
    "unsupervised\n",
    "unsupervised\n",
    "reinforcement\n",
    "supervised\n",
    "```"
   ]
  },
  {
   "cell_type": "markdown",
   "metadata": {},
   "source": [
    "### Отличная работа"
   ]
  }
 ],
 "metadata": {
  "kernelspec": {
   "display_name": "Python 3",
   "language": "python",
   "name": "python3"
  },
  "language_info": {
   "codemirror_mode": {
    "name": "ipython",
    "version": 3
   },
   "file_extension": ".py",
   "mimetype": "text/x-python",
   "name": "python",
   "nbconvert_exporter": "python",
   "pygments_lexer": "ipython3",
   "version": "3.8.8"
  }
 },
 "nbformat": 4,
 "nbformat_minor": 2
}
