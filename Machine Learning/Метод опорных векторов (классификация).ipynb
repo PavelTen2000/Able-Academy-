{
 "cells": [
  {
   "cell_type": "markdown",
   "metadata": {},
   "source": [
    "### Метод опорных векторов (классификация) [Домашнее задание]"
   ]
  },
  {
   "cell_type": "markdown",
   "metadata": {},
   "source": [
    "Следуйте следующим инструкциям:\n",
    "\n",
    "1. Загрузите набор данных ```\"breast_cancer\"``` из библиотеки ```sklearn```. (Подсказка: ```sklearn.datasets.load_breast_cancer```)\n",
    "\n",
    "2. Выполните анализ, очистку и всю необходимую предварительную обработку набора данных. Примечание: вам не разрешено отбрасывать точки данных.\n",
    "\n",
    "3. Разделите данные на ```train``` и ```validation``` со следующим соотношением 8-2, используя функцию ```train_test_split()``` из библиотеки ```sklearn```. Обратите внимание, вы должны установить ```random_state = 1```.\n",
    "\n",
    "4. Используя алгоритм ```Метод опорных векторов``` из библиотеки ```sklearn```, постройте модель для классификации ```breast_cancer```.\n",
    "\n",
    "5. Проверьте различные функции ядра и сравните их характеристики.\n",
    "\n",
    "5. Сравните среднее время выполнения одного прогноза с помощью библиотеки ```time```.\n",
    "\n",
    "\n",
    "**Примечание:** На всех этапах, пожалуйста, включайте пояснения."
   ]
  }
 ],
 "metadata": {
  "kernelspec": {
   "display_name": "Python 3",
   "language": "python",
   "name": "python3"
  },
  "language_info": {
   "codemirror_mode": {
    "name": "ipython",
    "version": 3
   },
   "file_extension": ".py",
   "mimetype": "text/x-python",
   "name": "python",
   "nbconvert_exporter": "python",
   "pygments_lexer": "ipython3",
   "version": "3.6.10"
  }
 },
 "nbformat": 4,
 "nbformat_minor": 4
}
