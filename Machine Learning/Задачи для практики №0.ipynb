{
 "cells": [
  {
   "cell_type": "markdown",
   "metadata": {},
   "source": [
    "# Пожалуйста, выполните задачи ниже.\n",
    "\n",
    "**Примечание:**\n",
    "\n",
    "> Пожалуйста, не удаляйте комментарии или строки кода.\n",
    "\n",
    "> Пожалуйста, покажите ваше решение, написав процедуру расчета.\n",
    "\n",
    "**Например:**\n",
    "\n",
    "Если вы подбросите монету, какова вероятность получить Tails?\n",
    "\n",
    "**Ваше решение должно выглядеть так:**\n",
    "\n",
    "```\n",
    "p_tails = 1 / (2**1) # Хороший пример решения\n",
    "# p_tails = 0.5 # Плохой пример решения\n",
    "```"
   ]
  },
  {
   "cell_type": "markdown",
   "metadata": {},
   "source": [
    "1. Ответьте на следующие вопросы:\n",
    "\n",
    "    * Какова вероятность вытянуть карту черной масти из колоды (52 карт)? Присвойте результат переменной ```p_black```.\n",
    "    \n",
    "    * Какова вероятность вытянуть две карты красной масти из колоды (52 карт) подряд? Присвойте результат переменной ```p_two_red```.\n",
    "    \n",
    "    * Какова вероятность вытянуть красную карту или туз из колоды (52 карт)? Присвойте результат переменной ```p_red_or_ace```.\n",
    "    \n",
    "    * Коробка содержит 4 синих, 2 красных и 3 черных ручки. Если из коробки случайным образом вытянуть три ручки, какова вероятность выбора 2 синих ручек и 1 черной ручки (в данном порядке)? Присвойте результат переменной ```p_2blue_black```.\n",
    "    \n",
    "    * Какова вероятность что сумма результата будет больше 2 после двух бросков игрального кубика? Присвойте результат переменной ```p_larger_2```.\n",
    "\n",
    "    * Какова вероятность того, вытянуть четыре короля подряд? Присвойте результат переменной ```p_four_kings```.\n",
    "    \n",
    "    * Какова вероятность вытянуть туз из колоды (52 карт) только после 3-й карты? Присвойте результат переменной ```p_ace_forth```.\n",
    "    \n",
    "    * Какова вероятность не вытянуть туз из колоды (52 карт) вытянув 4 карты? Присвойте результат переменной ```p_no_ace_4```.\n",
    "    \n",
    "    * Какова вероятность вытянуть хотя бы один валет из колоды (52 карт) выбрав 5 карт? Присвойте результат переменной ```p_jack_5```."
   ]
  },
  {
   "cell_type": "code",
   "execution_count": 1,
   "metadata": {},
   "outputs": [
    {
     "name": "stdout",
     "output_type": "stream",
     "text": [
      "50.00 %\n",
      "24.51 %\n",
      "53.85 %\n",
      "7.14 %\n",
      "97.22 %\n",
      "3.69e-04 %\n",
      "78.26 %\n",
      "71.87 %\n",
      "34.12 %\n"
     ]
    }
   ],
   "source": [
    "# Начало вашего кода\n",
    "p_black = 26/52\n",
    "p_two_red = 26/52 * 25/51\n",
    "p_red_or_ace = 28/52\n",
    "p_2blue_black = 4/9 * 3/8 * 3/7\n",
    "p_larger_2 = 1 - (1/6 * 1/6 )\n",
    "p_four_kings = 4/52 * 3/51 * 2/50 * 1/49\n",
    "p_ace_forth = 48/52 * 47/51 * 46/50\n",
    "p_no_ace_4 = 48/52 * 47/51 * 46/50 * 45/49\n",
    "p_jack_5 = 1 - (48/52 * 47/51 * 46/50 * 45/49* 44/48)\n",
    "# Конец вашего кода\n",
    "print(f\"{p_black*100:.2f} %\")\n",
    "print(f\"{p_two_red*100:.2f} %\")\n",
    "print(f\"{p_red_or_ace*100:.2f} %\")\n",
    "print(f\"{p_2blue_black*100:.2f} %\")\n",
    "print(f\"{p_larger_2*100:.2f} %\")\n",
    "print(f\"{p_four_kings*100:.2e} %\")\n",
    "print(f\"{p_ace_forth*100:.2f} %\")\n",
    "print(f\"{p_no_ace_4*100:.2f} %\")\n",
    "print(f\"{p_jack_5*100:.2f} %\")"
   ]
  },
  {
   "cell_type": "markdown",
   "metadata": {},
   "source": [
    "### Ожидаемый результат:\n",
    "\n",
    "```\n",
    "50.00 %\n",
    "24.51 %\n",
    "53.85 %\n",
    "7.14 %\n",
    "97.22 %\n",
    "3.69e-04 %\n",
    "78.26 %\n",
    "71.87 %\n",
    "34.12 %\n",
    "```"
   ]
  },
  {
   "cell_type": "markdown",
   "metadata": {},
   "source": [
    "2. Ответьте на следующие вопросы:\n",
    "\n",
    "    * Сколько существует возможных 6-значных пин-кодов? Присвойте результат переменной ```n_six_pin```.\n",
    "    \n",
    "    * Сколько существует возможных 5-буквенных (английские заглавные) пин-коды? Присвойте результат переменной ```n_five_pin```.\n",
    "    \n",
    "    * У вас есть 3 красных шара, 2 синих шара, 4 зеленых шара. Какое общее количество возможных комбинации выбора 3 шаров? Пример: «синий, синий, красный» - это то же самое, «красный, синий, синий». Присвойте результат переменной ```n_three_balls```.\n",
    "    \n",
    "    * У вас в классе 7 учеников. Сколько вариантов рассадки 7 учеников на 7 стульях возможно? Присвойте результат переменной ```n_7_students```.\n",
    "    \n",
    "    * В классе 7 учениц и 5 учениц. Каждый день на дежурстве должен быть один ученик и одна ученица. Сколько дней не будет повторяющейся пары людей на дежурстве? Присвойте результат переменной ```n_days_no_pair```.\n",
    "    \n",
    "    * К сожалению, вы не можете вспомнить код для вашего четырехзначного замка. Вы знаете только, что не использовали ни одной цифры более одного раза. Сколько разных способов вы должны попробовать? Присвойте результат переменной ```n_pin_trials```."
   ]
  },
  {
   "cell_type": "code",
   "execution_count": 15,
   "metadata": {},
   "outputs": [],
   "source": [
    "def factorial(num):\n",
    "    #Начало вашего кода\n",
    "    res = 1\n",
    "    while num !=0:\n",
    "        res *= num\n",
    "        num-=1\n",
    "    return res"
   ]
  },
  {
   "cell_type": "code",
   "execution_count": 23,
   "metadata": {},
   "outputs": [
    {
     "name": "stdout",
     "output_type": "stream",
     "text": [
      "1000000\n",
      "11881376\n",
      "84.0\n",
      "5040\n",
      "35\n",
      "5040.0\n"
     ]
    }
   ],
   "source": [
    "# Начало вашего кода\n",
    "n_six_pin = 10 **6\n",
    "n_five_pin = 26 **5\n",
    "n_three_balls = factorial(9)/factorial(9-3)/factorial(3)\n",
    "n_7_students = factorial(7)\n",
    "n_days_no_pair = 7*5\n",
    "n_pin_trials = factorial(10)/factorial(10-4)\n",
    "# Конец вашего кода\n",
    "print(n_six_pin)\n",
    "print(n_five_pin)\n",
    "print(n_three_balls)\n",
    "print(n_7_students)\n",
    "print(n_days_no_pair)\n",
    "print(n_pin_trials)"
   ]
  },
  {
   "cell_type": "markdown",
   "metadata": {},
   "source": [
    "### Ожидаемый результат:\n",
    "\n",
    "```\n",
    "1000000\n",
    "11881376\n",
    "84\n",
    "5040\n",
    "35\n",
    "5040\n",
    "```"
   ]
  },
  {
   "cell_type": "markdown",
   "metadata": {},
   "source": [
    "3. Ответьте на следующие вопросы:\n",
    "\n",
    "    * Какова вероятность вытянуть 10 или карту меньше 6 из колоды (52 карт)? Присвойте результат переменной ```p_10_or_less_6```.\n",
    "    \n",
    "    * Какова вероятность вытянуть карту меньше 9 или карту черной масти из колоды (52 карт)? Присвойте результат переменной ```p_less_9_black```.\n",
    "    \n",
    "    * Какова вероятность вытянуть карту менее 5 черной масти из колоды (52 карт)? Присвойте результат переменной ```p_black_and_less_5```.\n",
    "    \n",
    "    * Вы знаете, что 4-значный пин-код является четным числом. Например, 0002 является четным пин-кодом. Какова вероятность того, что  1234 является правильным пин-кодом? Присвойте результат переменной ```p_1234```.\n",
    "    \n",
    "    * Вы знаете, что ваш 4-значный пин-код заканчивается цифрой 3. Какова вероятность того, что правильный пин-код 3243? Присвойте результат переменной ```p_3243```."
   ]
  },
  {
   "cell_type": "code",
   "execution_count": 3,
   "metadata": {},
   "outputs": [
    {
     "name": "stdout",
     "output_type": "stream",
     "text": [
      "46.15 %\n",
      "80.77 %\n",
      "11.54 %\n",
      "0.02 %\n",
      "0.10 %\n"
     ]
    }
   ],
   "source": [
    "# Начало вашего кода\n",
    "p_10_or_less_6 = (4*5+4) /52\n",
    "p_less_9_black = (8 * 2 + 26)/ 52\n",
    "p_black_and_less_5 = 3*2/52 \n",
    "p_1234 = 1/10 * 1/10 * 1/10 * 1/5\n",
    "p_3243 = 1/10 **3\n",
    "# Конец вашего кода\n",
    "print(f\"{p_10_or_less_6*100:.2f} %\")\n",
    "print(f\"{p_less_9_black*100:.2f} %\")\n",
    "print(f\"{p_black_and_less_5*100:.2f} %\")\n",
    "print(f\"{p_1234*100:.2f} %\")\n",
    "print(f\"{p_3243*100:.2f} %\")"
   ]
  },
  {
   "cell_type": "markdown",
   "metadata": {},
   "source": [
    "### Ожидаемый результат:\n",
    "\n",
    "```\n",
    "46.15 %\n",
    "80.77 %\n",
    "11.54 %\n",
    "0.02 %\n",
    "0.10 %\n",
    "```"
   ]
  },
  {
   "attachments": {
    "image.png": {
     "image/png": "[encoded data removed]"
    }
   },
   "cell_type": "markdown",
   "metadata": {},
   "source": [
    "4. Вам предоставляется информация о продажах молока и хлеба с точки зрения количества людей.\n",
    "\n",
    "![image.png](attachment:image.png)\n"
   ]
  },
  {
   "cell_type": "markdown",
   "metadata": {},
   "source": [
    "Ответьте на следующие вопросы:\n",
    "\n",
    "* Какова вероятность того, что новый клиент купит хлеб? Присвойте результат переменной ```p_bread```.\n",
    "    \n",
    "* Какова вероятность того, что новый клиент купит молоко? Присвойте результат переменной ```p_milk```.\n",
    "\n",
    "* Какова вероятность того, что новый клиент купит только молоко? Присвойте результат переменной ```p_only_milk```.\n",
    "\n",
    "* Какова вероятность того, что новый клиент купит хлеб и молоко? Присвойте результат переменной ```p_bread_and_milk```.\n",
    "\n",
    "* Какова вероятность того, что новый клиент купит хлеб или молоко? Присвойте результат переменной ```p_bread_or_milk```.\n",
    "\n",
    "* Какова вероятность того, что новый клиент купивший хлеб, купит молоко? Присвойте результат переменной ```p_milk_given_bread```.\n",
    "\n",
    "* Какова вероятность того, что новый клиент не купивший молоко, купит хлеб? Присвойте результат переменной ```p_bread_given_no_milk```.\n",
    "\n",
    "* Какова вероятность того, что новый клиент не купивший хлеб, не купит молоко? Присвойте результат переменной ```p_no_milk_given_no_bread```."
   ]
  },
  {
   "cell_type": "code",
   "execution_count": 2,
   "metadata": {},
   "outputs": [
    {
     "name": "stdout",
     "output_type": "stream",
     "text": [
      "67.57 %\n",
      "48.65 %\n",
      "21.62 %\n",
      "27.03 %\n",
      "89.19 %\n",
      "40.00 %\n",
      "78.95 %\n",
      "33.33 %\n"
     ]
    }
   ],
   "source": [
    "# Начало вашего кода\n",
    "p_bread = 250 / (250+120)\n",
    "p_milk = 180 / (180+190)\n",
    "p_only_milk = 80 / (180+190)\n",
    "p_bread_and_milk = 100/ (180+190)\n",
    "p_bread_or_milk = (100+80+150) / (100+80+150+40)\n",
    "p_milk_given_bread = 100 / 250 # я не понял почему здесь ответ не соответсвует Ожидаемый результату\n",
    "p_bread_given_no_milk = 150/190\n",
    "p_no_milk_given_no_bread = 40 / 120\n",
    "# Конец вашего кода\n",
    "print(f\"{p_bread*100:.2f} %\")\n",
    "print(f\"{p_milk*100:.2f} %\")\n",
    "print(f\"{p_only_milk*100:.2f} %\")\n",
    "print(f\"{p_bread_and_milk*100:.2f} %\")\n",
    "print(f\"{p_bread_or_milk*100:.2f} %\")\n",
    "print(f\"{p_milk_given_bread*100:.2f} %\")\n",
    "print(f\"{p_bread_given_no_milk*100:.2f} %\")\n",
    "print(f\"{p_no_milk_given_no_bread*100:.2f} %\")"
   ]
  },
  {
   "cell_type": "markdown",
   "metadata": {},
   "source": [
    "### Ожидаемый результат:\n",
    "\n",
    "```\n",
    "67.57 %\n",
    "48.65 %\n",
    "21.62 %\n",
    "27.03 %\n",
    "89.19 %\n",
    "55.56 %\n",
    "78.95 %\n",
    "33.33 %\n",
    "```"
   ]
  },
  {
   "cell_type": "markdown",
   "metadata": {},
   "source": [
    "5. Определите, являются ли следующие события независимыми или зависимыми. Присвойте строки ```\"dependent\"``` или ```\"independent\"```.\n",
    "\n",
    "    * Событие A: вытянуть туз из колоды (52 карт), событие B: вытянуть короля из колоды (52 карт). Присвойте результат переменной ```e_ace_king```.\n",
    "    \n",
    "    * В сумке содержится 5 красных и 6 синих шаров. Вынимаем случайный шар (событие A) из сумки, записываем его цвет и кладем обратно в сумку. Затем мы вынимаем еще один случайный шар (событие B) из сумки и записываем его цвет. Присвойте результат переменной ```e_two_balls```.\n",
    "    \n",
    "    * Событие A: Лучший игрок вашей футбольной команды получил травму. Событие B: Ваша команда проигрывает матч. Присвойте результат переменной ```e_soccer```.\n",
    "    \n",
    "    * Событие A: День дождливый. Событие B: У вас есть выпускной экзамен. Присвойте результат переменной ```e_rainy_exam```."
   ]
  },
  {
   "cell_type": "code",
   "execution_count": 46,
   "metadata": {},
   "outputs": [
    {
     "name": "stdout",
     "output_type": "stream",
     "text": [
      "independent\n",
      "independent\n",
      "dependent\n",
      "independent\n"
     ]
    }
   ],
   "source": [
    "# Начало вашего кода\n",
    "e_ace_king = \"independent\"\n",
    "e_two_balls = \"independent\"\n",
    "e_soccer = \"dependent\"\n",
    "e_rainy_exam = \"independent\"\n",
    "# Конец вашего кода\n",
    "print(e_ace_king)\n",
    "print(e_two_balls)\n",
    "print(e_soccer)\n",
    "print(e_rainy_exam)"
   ]
  },
  {
   "cell_type": "markdown",
   "metadata": {},
   "source": [
    "### Ожидаемый результат:\n",
    "\n",
    "```\n",
    "independent\n",
    "independent\n",
    "dependent\n",
    "independent\n",
    "```"
   ]
  },
  {
   "cell_type": "markdown",
   "metadata": {},
   "source": [
    "6. Все услуги такси в Корее предоставляются тремя крупными компаниями: \"GoGo\", \"FastTaxi\", \"Anytime\". В 65% случаев, когда вы вызываете такси, прибудет такси от \"GoGo\", в 25% случаев - \"FastTaxi\", в остальных случаях \"Anytime\". 10% такси \"GoGo\" прибывает только через 10 минут после вашего звонка, 6% такси \"FastTaxi\" прибывает только через 10 минут после вашего звонка, и 13% такси \"Anytime\" прибывает только через 10 минут после вашего звонка.\n",
    "\n",
    "    Ответьте на следующие вопросы:\n",
    "\n",
    "    * Какова вероятность того, что при вызове такси, «Anytime» такси прибудет? Присвойте результат переменной ```p_anytime```.\n",
    "    \n",
    "    * Какова вероятность того, что при вызове такси, «Gogo» такси прибудет? Присвойте результат переменной ```p_gogo```.\n",
    "    \n",
    "    * Какова вероятность того, что при вызове такси, «FastTaxi» такси прибудет? Присвойте результат переменной ```p_fasttaxi```.\n",
    "    \n",
    "    * Какова вероятность того, что такси «GoGo» прибудет менее чем через 10 минут после вашего звонка? Присвойте результат переменной ```p_before_10_given_gogo```.\n",
    "    \n",
    "    * Какова вероятность того, что такси «FastTaxi» прибудет через 10 минут после вашего звонка? Присвойте результат переменной ```p_after_10_given_fasttaxi```.\n",
    "\n",
    "    * Какова вероятность того, что такси «Anytime» прибудет через 10 минут после вашего звонка? Присвойте результат переменной ```p_after_10_given_anytime```.\n",
    "\n",
    "    * Какова вероятность прибытия такси только через 10 минут после вашего звонка? Присвойте результат переменной ```p_after_10```.\n",
    "    \n",
    "    * Какова вероятность того, что такси будет от компании \"GoGo\", если оно прибудет только через 10 минут после вашего звонка? Присвойте результат переменной ```p_gogo_given_after_10```.\n",
    "    \n",
    "    * Какова вероятность того, что такси будет от компании \"FastTaxi\", если оно прибудет только через 10 минут после вашего звонка? Присвойте результат переменной ```p_fasttaxi_given_after_10```."
   ]
  },
  {
   "cell_type": "code",
   "execution_count": 8,
   "metadata": {},
   "outputs": [
    {
     "name": "stdout",
     "output_type": "stream",
     "text": [
      "10.00 %\n",
      "65.00 %\n",
      "25.00 %\n",
      "90.00 %\n",
      "6.00 %\n",
      "13.00 %\n",
      "9.30 %\n",
      "69.89 %\n",
      "16.13 %\n"
     ]
    }
   ],
   "source": [
    "# Начало вашего кода\n",
    "p_anytime = 0.10\n",
    "p_gogo = 0.65\n",
    "p_fasttaxi = 0.25\n",
    "p_before_10_given_gogo = 1 - 0.10\n",
    "p_after_10_given_fasttaxi = 0.06\n",
    "p_after_10_given_anytime = 0.13\n",
    "p_after_10 = (0.1 * 0.65) + (0.06 * 0.25) + (0.13 *  0.1)\n",
    "p_gogo_given_after_10 = (0.1 * 0.65) / p_after_10 \n",
    "p_fasttaxi_given_after_10 = (0.06 * 0.25) / p_after_10\n",
    "# Конец вашего кода\n",
    "\n",
    "print(f\"{p_anytime*100:.2f} %\")\n",
    "print(f\"{p_gogo*100:.2f} %\")\n",
    "print(f\"{p_fasttaxi*100:.2f} %\")\n",
    "print(f\"{p_before_10_given_gogo*100:.2f} %\")\n",
    "print(f\"{p_after_10_given_fasttaxi*100:.2f} %\")\n",
    "print(f\"{p_after_10_given_anytime*100:.2f} %\")\n",
    "print(f\"{p_after_10*100:.2f} %\")\n",
    "print(f\"{p_gogo_given_after_10*100:.2f} %\")\n",
    "print(f\"{p_fasttaxi_given_after_10*100:.2f} %\")"
   ]
  },
  {
   "cell_type": "markdown",
   "metadata": {},
   "source": [
    "### Ожидаемый результат:\n",
    "\n",
    "```\n",
    "10.00 %\n",
    "65.00 %\n",
    "25.00 %\n",
    "90.00 %\n",
    "6.00 %\n",
    "13.00 %\n",
    "9.30 %\n",
    "69.89 %\n",
    "16.13 %\n",
    "```"
   ]
  },
  {
   "cell_type": "markdown",
   "metadata": {},
   "source": [
    "# Прекрасная работа!"
   ]
  }
 ],
 "metadata": {
  "kernelspec": {
   "display_name": "Python 3",
   "language": "python",
   "name": "python3"
  },
  "language_info": {
   "codemirror_mode": {
    "name": "ipython",
    "version": 3
   },
   "file_extension": ".py",
   "mimetype": "text/x-python",
   "name": "python",
   "nbconvert_exporter": "python",
   "pygments_lexer": "ipython3",
   "version": "3.8.8"
  }
 },
 "nbformat": 4,
 "nbformat_minor": 4
}
