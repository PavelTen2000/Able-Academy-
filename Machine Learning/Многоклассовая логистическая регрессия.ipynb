{
 "cells": [
  {
   "cell_type": "markdown",
   "metadata": {},
   "source": [
    "### Многоклассовая логистическая регрессия [Домашнее задание]"
   ]
  },
  {
   "cell_type": "markdown",
   "metadata": {},
   "source": [
    "Следуйте следующим инструкциям:\n",
    "\n",
    "1. Загрузите набор данных ```\"titanic\"``` из библиотеки ```seaborn```.\n",
    "\n",
    "2. Выполните анализ, очистку и всю необходимую предварительную обработку набора данных. Примечание: вам не разрешено отбрасывать точки данных.\n",
    "\n",
    "3. Разделите данные на ```train``` и ```validation``` со следующим соотношением 8-2, используя функцию ```train_test_split()``` из библиотеки ```sklearn```. Обратите внимание, вы должны установить ```random_state = 1```.\n",
    "\n",
    "4. Постройте модель, которая предсказывает класс пассажира ```pclass```.\n",
    "\n",
    "5. Точность модели как для ```train```, так и для ```validation```  данных должна быть выше ```80%```.\n",
    "\n",
    "\n",
    "**Примечание:** На всех этапах, пожалуйста, включайте пояснения."
   ]
  },
  {
   "cell_type": "code",
   "execution_count": 33,
   "metadata": {},
   "outputs": [],
   "source": [
    "# Начало кода\n",
    "\n",
    "# Конец кода"
   ]
  },
  {
   "cell_type": "markdown",
   "metadata": {},
   "source": [
    "### Отличная работа"
   ]
  }
 ],
 "metadata": {
  "kernelspec": {
   "display_name": "Python 3",
   "language": "python",
   "name": "python3"
  },
  "language_info": {
   "codemirror_mode": {
    "name": "ipython",
    "version": 3
   },
   "file_extension": ".py",
   "mimetype": "text/x-python",
   "name": "python",
   "nbconvert_exporter": "python",
   "pygments_lexer": "ipython3",
   "version": "3.6.10"
  }
 },
 "nbformat": 4,
 "nbformat_minor": 2
}
