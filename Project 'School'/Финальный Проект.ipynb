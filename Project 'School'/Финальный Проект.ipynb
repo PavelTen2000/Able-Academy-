{
 "cells": [
  {
   "cell_type": "markdown",
   "metadata": {},
   "source": [
    "Финальный Проект\n",
    "---"
   ]
  },
  {
   "cell_type": "markdown",
   "metadata": {},
   "source": [
    "Пожалуйста, создайте пакет **education**, который содержит следующие модули:\n",
    "\n",
    "1. users\n",
    "2. organizations\n",
    "\n",
    "Когда вы запускаете пакет напрямую, он должен показывать все модули, указанные в пакете."
   ]
  },
  {
   "cell_type": "markdown",
   "metadata": {},
   "source": [
    "## Описание модулей приведено ниже:"
   ]
  },
  {
   "cell_type": "markdown",
   "metadata": {},
   "source": [
    "### Модуль **users** должен содержать классы **Human, Student(Human), Teacher(Human)**.\n",
    "\n",
    "1. Класс **Human** должен содержать следующую информацию: имя, фамилию, возраст, пол, национальность, а также способы задания этой информации.\n",
    " \n",
    ">``` \n",
    "> h1 = Human(name=\"John\", familyname=\"Wick\", age=35, gender=\"male\", nationality=\"USA\")\n",
    "> ``` \n",
    "\n",
    "Список методов:\n",
    "> ```\n",
    "set_name()\n",
    "set_family()\n",
    "set_age()\n",
    "set_gender()\n",
    "set_nationality()\n",
    "get_info() # возвращает словарь с личной информацией об объекте\n",
    "> ```\n",
    "\n",
    "2. Класс **Student** - это детский класс класса Human. Он должен содержать следующую информацию о каждом студенте: имя, фамилия, возраст, пол, национальность, название школы или университета, список предметов и соответствующие методы для установки этой информации.\n",
    "\n",
    "\n",
    "Список методов в дополнение к списку методов из родительского класса Human:\n",
    "> ```\n",
    "set_school()\n",
    "add_subject() # добавить предмет в список предметов\n",
    "> ```\n",
    "\n",
    "\n",
    "3. Класс **Teacher** - это детский класс класса Human. Он должен содержать следующую информацию о каждом преподавателе: имя, фамилия, возраст, пол, национальность, название школы или университета, предмет преподавания и соответствующие методы для установки этой информации.\n",
    "\n",
    "Список методов в дополнение к списку методов из родительского класса Human:\n",
    "> ```\n",
    "set_school()\n",
    "add_subject() # добавить предмет преподаваемый учителем\n",
    "> ```\n",
    "\n",
    "* При непосредственном запуске модуля **users** напрямую должен отображаться список классов, а также списки методов соответствующих классов, приведенных в модуле.\n",
    "\n",
    "* Когда вы импортируете модуль, он должен показать, что модуль был успешно импортирован.\n",
    "\n",
    "---"
   ]
  },
  {
   "cell_type": "markdown",
   "metadata": {},
   "source": [
    "### Модуль **organizations** должен содержать класс **School**.\n",
    "\n",
    "Класс **School** должен содержать следующую информацию: название или номер школы, адрес школы, номер телефона школы, электронный адрес учебного заведения, количество учеников, количество учителей, а также способы задания этой информации.\n",
    " \n",
    " \n",
    ">``` \n",
    "> s1 = School(name=\"NIS\", address=\"Astana, Kazakhstan\", phone=\"999999\", num_stud=1000, num_teachers=50)\n",
    "> ``` \n",
    "\n",
    "Список методов:\n",
    "> ```\n",
    "set_name()\n",
    "set_address()\n",
    "set_phone()\n",
    "set_email()\n",
    "set_num_stud()\n",
    "set_num_teachers()\n",
    "add_student()\n",
    "add_teacher()\n",
    "get_info() # возвращает словарь с информацией про школу без личной информации студентов / преподавателей\n",
    "get_report() # создает отчет (файл \"csv\") с информацией о школе и о каждом ученике, а также о преподавателе в этой школе. \n",
    "> ```\n",
    "\n",
    "**Пожалуйста, сделайте правильный формат файла CSV (который вы считаете наиболее понятным)**\n",
    "\n",
    "* При непосредственном запуске модуля **organizations** напрямую должен отображаться список классов, а также списки методов соответствующих классов, приведенных в модуле.\n",
    "\n",
    "* Когда вы импортируете модуль, он должен показать, что модуль был успешно импортирован.\n",
    "\n",
    "---"
   ]
  },
  {
   "cell_type": "markdown",
   "metadata": {},
   "source": [
    "### Что делать в jupyter notebook?\n",
    "\n",
    "В этом jupyter notebook, пожалуйста, проверьте все функциональные возможности вашего пакета. Как минимум создайте 2-3 школы, в каждой школе должно быть не менее 10 учеников (с разной информацией), а также как минимум 2 учителя разных предметов и личной информации. **Личная информация этих учеников, учителей и школ не должна быть правдивой (просто выдумайте).**\n",
    "\n",
    "**Пожалуйста, заархивируйте пакет и данный jupyter notebook вместе и отправьте архивный файл.**"
   ]
  },
  {
   "cell_type": "code",
   "execution_count": 1,
   "metadata": {},
   "outputs": [
    {
     "name": "stdout",
     "output_type": "stream",
     "text": [
      "Modul users has been successfully imported!\n"
     ]
    }
   ],
   "source": [
    "from education import users as U"
   ]
  },
  {
   "cell_type": "code",
   "execution_count": 2,
   "metadata": {},
   "outputs": [
    {
     "name": "stdout",
     "output_type": "stream",
     "text": [
      "Modul organization has been successfully imported!\n"
     ]
    }
   ],
   "source": [
    "from education import organizations as O"
   ]
  },
  {
   "cell_type": "code",
   "execution_count": 3,
   "metadata": {},
   "outputs": [],
   "source": [
    "# school:\n",
    "school1 = O.School(name=\"NIS\", address=\"Astana, Kazakhstan\", phone=\"999999\",email = '@nis.kz', num_stud=0, num_teachers=0)\n",
    "school2 = O.School(name=\"Squid\", address=\"Seoul, Korea\", phone=\"999999\",email = '@squid.kr', num_stud=0, num_teachers=0)\n",
    "school3 = O.School(name=\"Marvel\", address=\"USA\", phone=\"999999\",email = '@disney.com', num_stud=0, num_teachers=0)\n"
   ]
  },
  {
   "cell_type": "code",
   "execution_count": 4,
   "metadata": {},
   "outputs": [],
   "source": [
    "# teachers:\n",
    "t1 = U.Teacher(name=\"Elena\", familyname=\"Elcina\", age=60, gender=\"female\", nationality=\"Kazakhstan\", subject = 'math', school = 'NIS')\n",
    "t2 = U.Teacher(name=\"Marina\", familyname=\"Aleksandrova\", age=40, gender=\"female\", nationality=\"Kazakhstan\", subject = 'russian', school = 'NIS')\n",
    "t3 = U.Teacher(name=\"Sarrah\", familyname=\"Yurieva\", age=48, gender=\"female\", nationality=\"Kazakhstan\", subject = 'chemistry', school = 'NIS')"
   ]
  },
  {
   "cell_type": "code",
   "execution_count": 5,
   "metadata": {
    "scrolled": true
   },
   "outputs": [],
   "source": [
    "school1.add_teacher(t1)\n",
    "school1.add_teacher(t2)\n",
    "school1.add_teacher(t3)"
   ]
  },
  {
   "cell_type": "code",
   "execution_count": 6,
   "metadata": {},
   "outputs": [],
   "source": [
    "s1 = U.Student(name=\"Pavel\", familyname=\"Ten\", age=21, gender=\"male\", nationality=\"Kazakhstan\",subject = 'math', school = 'NIS')\n",
    "s1 = U.Student(name=\"Danial\", familyname=\"Agzam\", age=21, gender=\"male\", nationality=\"Kazakhstan\",subject = 'math', school = 'NIS')\n",
    "s2 = U.Student(name=\"Alina\", familyname=\"Baimurzinova\", age=21, gender=\"male\", nationality=\"Kazakhstan\",subject = 'math', school = 'NIS')\n",
    "s3 = U.Student(name=\"Anuarbek\", familyname=\"Almazov\", age=21, gender=\"male\", nationality=\"Kazakhstan\",subject = 'math', school = 'NIS')\n",
    "s4 = U.Student(name=\"Kamilla\", familyname=\"Baltabayeva\", age=21, gender=\"male\", nationality=\"Kazakhstan\",subject = 'math', school = 'NIS')\n",
    "s5 = U.Student(name=\"Ariana\", familyname=\"Bolshakova\", age=21, gender=\"male\", nationality=\"Kazakhstan\",subject = 'math', school = 'NIS')"
   ]
  },
  {
   "cell_type": "code",
   "execution_count": 7,
   "metadata": {},
   "outputs": [],
   "source": [
    "school1.add_student(s1)\n",
    "school1.add_student(s2)\n",
    "school1.add_student(s3)\n",
    "school1.add_student(s4)\n",
    "school1.add_student(s5)\n",
    "school1.add_student(s5)"
   ]
  },
  {
   "cell_type": "code",
   "execution_count": 8,
   "metadata": {},
   "outputs": [],
   "source": [
    "\n",
    "t1 = U.Teacher(name=\"Dong-hyuk\", familyname=\"Hwang\", age=60, gender=\"male\", nationality=\"Korea\", subject = 'math', school = 'Squid')\n",
    "t2 = U.Teacher(name=\"Jung-jae\", familyname=\"Lee\", age=40, gender=\"male\", nationality='Korea', subject = 'russian', school = 'Squid')\n",
    "t3 = U.Teacher(name=\"Hae-soo\", familyname=\"Park\", age=48, gender=\"male\", nationality=\"Korea\", subject = 'chemistry', school = 'Squid')"
   ]
  },
  {
   "cell_type": "code",
   "execution_count": 9,
   "metadata": {},
   "outputs": [],
   "source": [
    "# students:\n",
    "s1 = U.Student(name=\"Ho-yeon\", familyname=\"Jung\", age=21, gender=\"female\", nationality=\"Korea\",subject = 'math', school = 'Squid')\n",
    "s1 = U.Student(name=\"Yeong-su\", familyname=\"O\", age=21, gender=\"male\", nationality=\"Korea\",subject = 'math', school = 'Squid')\n",
    "s2 = U.Student(name=\"Sung-tae\", familyname=\"Heo\", age=21, gender=\"male\", nationality=\"Korea\",subject = 'math', school = 'Squid')\n",
    "s3 = U.Student(name=\"Tripathi\", familyname=\"Anupam\", age=21, gender=\"male\", nationality=\"Korea\",subject = 'math', school = 'Squid')\n",
    "s4 = U.Student(name=\"Joo-ryoung\", familyname=\"Kim\", age=21, gender=\"female\",nationality=\"Korea\",subject = 'math', school = 'Squid')\n",
    "s5 = U.Student(name=\"Jae-il\", familyname=\"Jung\", age=21, gender=\"male\", nationality=\"Korea\",subject = 'math', school = 'Squid')"
   ]
  },
  {
   "cell_type": "code",
   "execution_count": 10,
   "metadata": {},
   "outputs": [],
   "source": [
    "school2.add_teacher(t1)\n",
    "school2.add_teacher(t2)\n",
    "school2.add_teacher(t3)"
   ]
  },
  {
   "cell_type": "code",
   "execution_count": 11,
   "metadata": {},
   "outputs": [],
   "source": [
    "school2.add_student(s1)\n",
    "school2.add_student(s2)\n",
    "school2.add_student(s3)\n",
    "school2.add_student(s4)\n",
    "school2.add_student(s5)"
   ]
  },
  {
   "cell_type": "code",
   "execution_count": 12,
   "metadata": {},
   "outputs": [],
   "source": [
    "t1 = U.Teacher(name=\"Joss\", familyname=\"Whedon\", age=60, gender=\"male\", nationality=\"USA\", subject = 'math', school = 'Marvel')\n",
    "t2 = U.Teacher(name=\"Zak\", familyname=\"Penn\", age=40, gender=\"male\", nationality='USA', subject = 'russian', school = 'Marvel')\n",
    "t3 = U.Teacher(name=\"Chris\", familyname=\"Evans\", age=48, gender=\"male\", nationality=\"USA\", subject = 'chemistry', school = 'Marvel')"
   ]
  },
  {
   "cell_type": "code",
   "execution_count": 13,
   "metadata": {},
   "outputs": [],
   "source": [
    "# students:\n",
    "s1 = U.Student(name=\"Robert \", familyname=\"Downey Jr.\", age=21, gender=\"male\", nationality=\"USA\",subject = 'math', school = 'Squid')\n",
    "s1 = U.Student(name=\"Mark\", familyname=\"Ruffalo\", age=21, gender=\"male\", nationality=\"USA\",subject = 'math', school = 'Squid')\n",
    "s2 = U.Student(name=\"Chris\", familyname=\"Hemsworth\", age=21, gender=\"male\", nationality=\"USA\",subject = 'math', school = 'Squid')\n",
    "s3 = U.Student(name=\"Scarlett\", familyname=\"Johansson \", age=21, gender=\"female\", nationality=\"USA\",subject = 'math', school = 'Squid')\n",
    "s4 = U.Student(name=\"Jeremy\", familyname=\"Renner\", age=21, gender=\"male\",nationality=\"USA\",subject = 'math', school = 'Squid')\n",
    "s5 = U.Student(name=\"Tom\", familyname=\"Hiddleston\", age=21, gender=\"male\", nationality=\"USA\",subject = 'math', school = 'Squid')"
   ]
  },
  {
   "cell_type": "code",
   "execution_count": 14,
   "metadata": {},
   "outputs": [],
   "source": [
    "school3.add_teacher(t1)\n",
    "school3.add_teacher(t2)\n",
    "school3.add_teacher(t3)"
   ]
  },
  {
   "cell_type": "code",
   "execution_count": 15,
   "metadata": {},
   "outputs": [],
   "source": [
    "school3.add_student(s1)\n",
    "school3.add_student(s2)\n",
    "school3.add_student(s3)\n",
    "school3.add_student(s4)\n",
    "school3.add_student(s5)"
   ]
  },
  {
   "cell_type": "code",
   "execution_count": 16,
   "metadata": {},
   "outputs": [],
   "source": [
    "school3.get_report()\n",
    "school1.get_report()\n",
    "school2.get_report()"
   ]
  },
  {
   "cell_type": "code",
   "execution_count": 17,
   "metadata": {},
   "outputs": [],
   "source": [
    "school4 = O.School(name=\"NIS\", address=\"Astana, Kazakhstan\", phone=\"999999\",email = '@nis.kz', num_stud=0, num_teachers=0)\n",
    "school4.add_student(s1)\n",
    "school4.get_report()"
   ]
  },
  {
   "cell_type": "code",
   "execution_count": 18,
   "metadata": {},
   "outputs": [],
   "source": [
    "school5 = O.School(name=\"Marvel\", address=\"USA\", phone=\"999999\",email = '@disney.com', num_stud=0, num_teachers=0)\n",
    "p1 = U.Student(name=\"Random\", familyname=\"Name\", age=21, gender=\"male\", nationality=\"USA\",subject = 'math', school = 'Marvel')\n",
    "school5.add_student(p1)"
   ]
  },
  {
   "cell_type": "code",
   "execution_count": 19,
   "metadata": {},
   "outputs": [],
   "source": [
    "school5.get_report()\n"
   ]
  },
  {
   "cell_type": "code",
   "execution_count": null,
   "metadata": {},
   "outputs": [],
   "source": []
  }
 ],
 "metadata": {
  "kernelspec": {
   "display_name": "Python 3",
   "language": "python",
   "name": "python3"
  },
  "language_info": {
   "codemirror_mode": {
    "name": "ipython",
    "version": 3
   },
   "file_extension": ".py",
   "mimetype": "text/x-python",
   "name": "python",
   "nbconvert_exporter": "python",
   "pygments_lexer": "ipython3",
   "version": "3.8.8"
  }
 },
 "nbformat": 4,
 "nbformat_minor": 2
}
