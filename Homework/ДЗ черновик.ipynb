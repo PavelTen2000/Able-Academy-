{
 "cells": [
  {
   "cell_type": "code",
   "execution_count": null,
   "id": "af52ba76",
   "metadata": {},
   "outputs": [],
   "source": [
    "def sequence(n):\n",
    "    a = []\n",
    "    def recur(n):\n",
    "        a.append(n)\n",
    "        if n <=0:\n",
    "            return \" \" #после того как вернуло \"\" след return уже не будет запускаться. И ф-ия заканчивается\n",
    "        return recur(n - 5)\n",
    "    recur(n)\n",
    "    return a\n",
    "    \n",
    "        \n",
    "print(sequence(16))\n",
    "print(sequence(40))\n",
    "    # Конец вашего кода"
   ]
  }
 ],
 "metadata": {
  "kernelspec": {
   "display_name": "Python 3",
   "language": "python",
   "name": "python3"
  },
  "language_info": {
   "codemirror_mode": {
    "name": "ipython",
    "version": 3
   },
   "file_extension": ".py",
   "mimetype": "text/x-python",
   "name": "python",
   "nbconvert_exporter": "python",
   "pygments_lexer": "ipython3",
   "version": "3.8.8"
  }
 },
 "nbformat": 4,
 "nbformat_minor": 5
}
