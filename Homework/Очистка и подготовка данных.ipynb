{
 "cells": [
  {
   "cell_type": "markdown",
   "metadata": {},
   "source": [
    "### Очистка и подготовка данных [Домашнее задание]"
   ]
  },
  {
   "cell_type": "markdown",
   "metadata": {},
   "source": [
    "Загрузите следующий файл Excel «synthetic_data.csv» и выполните все методы очистки и предварительной обработки, которые вы изучили в лекции. \n",
    "\n",
    "Наконец, сохраните новые «очищенные» данные в новый CSV-файл «cleaned_synthetic_data.csv»"
   ]
  },
  {
   "cell_type": "markdown",
   "metadata": {},
   "source": [
    "Примечание: вы можете использовать функции, классы, модули, пакеты и т. д. для выполнения домашней работы."
   ]
  },
  {
   "cell_type": "code",
   "execution_count": 1,
   "metadata": {},
   "outputs": [
    {
     "name": "stdout",
     "output_type": "stream",
     "text": [
      "['1', '(male)', '[Kazakhstan]', 'Aktobe', '1990']\n",
      "['2', 'Female', 'russia', 'moscow', '1956-1957']\n",
      "['3', 'male', 'kazakhstan', 'astana', '2001']\n",
      "['4', 'FEMALE', 'Kazakhstan', 'nur-sultan', '2019']\n",
      "['5', '   male', 'Russia', 'Saint Petersburg', '1999']\n",
      "['6', 'female)', 'ukraine', 'Kiev', '1989']\n",
      "['7', '', 'kazakhstan', 'almaty', '2008']\n",
      "['8', 'Male', 'korea', 'pusan', '1999']\n",
      "['9', '(female)', 'korea', 'busan', '1980']\n"
     ]
    }
   ],
   "source": [
    "import csv \n",
    "with open('synthetic_data.csv', 'r') as f:\n",
    "    csv_data = csv.reader(f)\n",
    "    data=list(csv_data)\n",
    "    header = data.pop(0)\n",
    "    for i in data:\n",
    "        print(i)"
   ]
  },
  {
   "cell_type": "code",
   "execution_count": 2,
   "metadata": {},
   "outputs": [],
   "source": [
    "for i in data:\n",
    "    i[1] = i[1].strip()\n",
    "    i[1] = i[1].strip('()')\n",
    "    i[1] = i[1].lower()\n",
    "    i[2] = i[2].strip('[]')\n",
    "    i[2] = i[2].title()\n",
    "    i[3] = i[3].title()\n",
    "    if len(str(i[4]))>4:\n",
    "        a = i[4].split('-')\n",
    "        b = [int(j) for j in a] \n",
    "        c = round(sum(b)/len(b))\n",
    "        i[4] = c\n",
    "    "
   ]
  },
  {
   "cell_type": "code",
   "execution_count": 3,
   "metadata": {},
   "outputs": [
    {
     "name": "stdout",
     "output_type": "stream",
     "text": [
      "['1', 'male', 'Kazakhstan', 'Aktobe', '1990']\n",
      "['2', 'female', 'Russia', 'Moscow', 1956]\n",
      "['3', 'male', 'Kazakhstan', 'Astana', '2001']\n",
      "['4', 'female', 'Kazakhstan', 'Nur-Sultan', '2019']\n",
      "['5', 'male', 'Russia', 'Saint Petersburg', '1999']\n",
      "['6', 'female', 'Ukraine', 'Kiev', '1989']\n",
      "['7', '', 'Kazakhstan', 'Almaty', '2008']\n",
      "['8', 'male', 'Korea', 'Pusan', '1999']\n",
      "['9', 'female', 'Korea', 'Busan', '1980']\n"
     ]
    }
   ],
   "source": [
    "for i in data:\n",
    "        print(i)"
   ]
  },
  {
   "cell_type": "code",
   "execution_count": 4,
   "metadata": {},
   "outputs": [],
   "source": [
    "with open('cleaned_synthetic_data.csv' , 'w', newline='') as file:\n",
    "    w = csv.writer(file)\n",
    "    w.writerow(header)\n",
    "    for i in data:\n",
    "        w.writerow(i)"
   ]
  },
  {
   "cell_type": "code",
   "execution_count": null,
   "metadata": {},
   "outputs": [],
   "source": []
  },
  {
   "cell_type": "code",
   "execution_count": null,
   "metadata": {},
   "outputs": [],
   "source": []
  },
  {
   "cell_type": "code",
   "execution_count": null,
   "metadata": {},
   "outputs": [],
   "source": []
  }
 ],
 "metadata": {
  "kernelspec": {
   "display_name": "Python 3",
   "language": "python",
   "name": "python3"
  },
  "language_info": {
   "codemirror_mode": {
    "name": "ipython",
    "version": 3
   },
   "file_extension": ".py",
   "mimetype": "text/x-python",
   "name": "python",
   "nbconvert_exporter": "python",
   "pygments_lexer": "ipython3",
   "version": "3.8.8"
  }
 },
 "nbformat": 4,
 "nbformat_minor": 2
}
