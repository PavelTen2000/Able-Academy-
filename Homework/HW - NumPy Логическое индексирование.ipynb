{
 "cells": [
  {
   "cell_type": "markdown",
   "metadata": {},
   "source": [
    "### NumPy: Логическое индексирование [Домашнее задание]\n",
    "> **Вы должны импортировать все необходимые пакеты самостоятельно.**\n",
    "\n",
    "> **Пишите код только там, где это показано для записи. Не удаляйте комментарии!**\n",
    " "
   ]
  },
  {
   "cell_type": "markdown",
   "metadata": {},
   "source": [
    "1. Пожалуйста, напишите функцию ```load_data(filename)```, которая будет загружать данные из csv-файла в список списков. Пожалуйста, напишите функцию load_data (имя файла), которая будет загружать данные из csv-файла в список списков. Файл ```Social_Network_Ads.csv``` предоставлен вместе с этим jupyter notebook.\n",
    "\n",
    "\n",
    "**Примечание:** В случае, если имя файла задано неверно, функция ```load_data``` должна вывести следующее сообщение об ошибке:\n",
    "\n",
    "```{имя файла} does not exist```"
   ]
  },
  {
   "cell_type": "code",
   "execution_count": 1,
   "metadata": {},
   "outputs": [],
   "source": [
    "#Начало вашего кода\n",
    "import csv\n",
    "import os \n",
    "def load_data(filename):\n",
    "    if (filename.strip('./') in os.listdir()):\n",
    "        with open(filename) as f:\n",
    "            data_csv = csv.reader(f)\n",
    "            data = list(data_csv)\n",
    "        return data.pop(0), data\n",
    "    else:\n",
    "        print(f'{filename} does not exist')\n",
    "        return [None,None]\n",
    "    \n",
    "#Конец вашего кода"
   ]
  },
  {
   "cell_type": "code",
   "execution_count": 2,
   "metadata": {},
   "outputs": [
    {
     "name": "stdout",
     "output_type": "stream",
     "text": [
      "./SocialNetworkAds.csv does not exist\n"
     ]
    }
   ],
   "source": [
    "filename = \"./SocialNetworkAds.csv\"\n",
    "header, data = load_data(filename=filename)"
   ]
  },
  {
   "cell_type": "markdown",
   "metadata": {},
   "source": [
    "### Ожидаемый результат:\n",
    "\n",
    "```\n",
    "./SocialNetworkAds.csv does not exist\n",
    "```"
   ]
  },
  {
   "cell_type": "code",
   "execution_count": 125,
   "metadata": {},
   "outputs": [
    {
     "name": "stdout",
     "output_type": "stream",
     "text": [
      "None\n",
      "None\n"
     ]
    }
   ],
   "source": [
    "print(header)\n",
    "print(data)"
   ]
  },
  {
   "cell_type": "markdown",
   "metadata": {},
   "source": [
    "### Ожидаемый результат:\n",
    "\n",
    "```\n",
    "None\n",
    "None\n",
    "```"
   ]
  },
  {
   "cell_type": "code",
   "execution_count": 126,
   "metadata": {},
   "outputs": [],
   "source": [
    "filename = \"./Social_Network_Ads.csv\"\n",
    "header, data = load_data(filename=filename)"
   ]
  },
  {
   "cell_type": "code",
   "execution_count": 127,
   "metadata": {},
   "outputs": [
    {
     "name": "stdout",
     "output_type": "stream",
     "text": [
      "['User ID', 'Gender', 'Age', 'EstimatedSalary', 'Purchased']\n"
     ]
    }
   ],
   "source": [
    "print(header)"
   ]
  },
  {
   "cell_type": "markdown",
   "metadata": {},
   "source": [
    "### Ожидаемый результат:\n",
    "\n",
    "```\n",
    "['User ID', 'Gender', 'Age', 'EstimatedSalary', 'Purchased']\n",
    "```"
   ]
  },
  {
   "cell_type": "code",
   "execution_count": 128,
   "metadata": {},
   "outputs": [
    {
     "name": "stdout",
     "output_type": "stream",
     "text": [
      "['15624510', 'Male', '19', '19000', '0']\n",
      "['15810944', 'Male', '35', '20000', '0']\n",
      "['15668575', 'Female', '26', '43000', '0']\n",
      "['15603246', 'Female', '27', '57000', '0']\n",
      "['15804002', 'Male', '19', '76000', '0']\n"
     ]
    }
   ],
   "source": [
    "for i in range(5):\n",
    "    print(data[i])"
   ]
  },
  {
   "cell_type": "markdown",
   "metadata": {},
   "source": [
    "### Ожидаемый результат:\n",
    "\n",
    "```\n",
    "['15624510', 'Male', '19', '19000', '0']\n",
    "['15810944', 'Male', '35', '20000', '0']\n",
    "['15668575', 'Female', '26', '43000', '0']\n",
    "['15603246', 'Female', '27', '57000', '0']\n",
    "['15804002', 'Male', '19', '76000', '0']\n",
    "```"
   ]
  },
  {
   "cell_type": "markdown",
   "metadata": {},
   "source": [
    "2. Пожалуйста, напишите функцию ```preprocess_data(data)```, которая преобразует все элементы типа ```str``` в списке ```data``` в целые числа.\n",
    "\n",
    "\n",
    "**Подсказка:** в случае \"Male\" и \"Female\" возможно следующее преобразование:\n",
    "\n",
    "* заменить \"Male\" на число 0\n",
    "\n",
    "* заменить \"Female\" на число 1"
   ]
  },
  {
   "cell_type": "code",
   "execution_count": 129,
   "metadata": {},
   "outputs": [],
   "source": [
    "#Начало вашего кода\n",
    "import numpy as np\n",
    "def preprocess_data(data):\n",
    "    a = np.array(data)\n",
    "    for i in a:\n",
    "        if i[1] == 'Male':\n",
    "            i[1] = '0'\n",
    "        else:\n",
    "            i[1] = '1'\n",
    "    a = a.astype('int32')\n",
    "    return a.tolist()\n",
    "#Конец вашего кода"
   ]
  },
  {
   "cell_type": "code",
   "execution_count": 130,
   "metadata": {},
   "outputs": [],
   "source": [
    "filt_data = preprocess_data(data=data)"
   ]
  },
  {
   "cell_type": "code",
   "execution_count": 131,
   "metadata": {},
   "outputs": [
    {
     "name": "stdout",
     "output_type": "stream",
     "text": [
      "[15624510, 0, 19, 19000, 0]\n",
      "[15810944, 0, 35, 20000, 0]\n",
      "[15668575, 1, 26, 43000, 0]\n",
      "[15603246, 1, 27, 57000, 0]\n",
      "[15804002, 0, 19, 76000, 0]\n"
     ]
    }
   ],
   "source": [
    "for i in range(5):\n",
    "    print(filt_data[i])"
   ]
  },
  {
   "cell_type": "markdown",
   "metadata": {},
   "source": [
    "### Ожидаемый результат:\n",
    "\n",
    "```\n",
    "[15624510, 0, 19, 19000, 0]\n",
    "[15810944, 0, 35, 20000, 0]\n",
    "[15668575, 1, 26, 43000, 0]\n",
    "[15603246, 1, 27, 57000, 0]\n",
    "[15804002, 0, 19, 76000, 0]\n",
    "```"
   ]
  },
  {
   "cell_type": "markdown",
   "metadata": {},
   "source": [
    "2. Вы должны реализовать функцию ```salary_info(data, gender=None)```. Используя логическое индексирование, рассчитайте максимальное, минимальное, среднее, и стандартное отклонение зарплаты."
   ]
  },
  {
   "cell_type": "code",
   "execution_count": 132,
   "metadata": {},
   "outputs": [],
   "source": [
    "#Начало вашего кода\n",
    "def salary_info(data, gender=None):\n",
    "    data = np.array(data)\n",
    "    if gender == None:\n",
    "        print('This statisctics are for both genders:')\n",
    "        print(f'Max salary: {round(data[:,3].max(),2)} USD')\n",
    "        print(f'Min salary: {round(data[:,3].min(),2)} USD')\n",
    "        print(f'Mean salary: {round(data[:,3].mean(),2)} USD')\n",
    "        print(f'Std of salary: {round(data[:,3].std(), 2)} USD')\n",
    "    else:\n",
    "        if gender.lower() == 'female':\n",
    "            print('This statisctics are for only Female:')\n",
    "            a = data[:,1] == 1\n",
    "            data = data[a]\n",
    "            print(f'Max salary: {round(data[:,3].max(),2)} USD')\n",
    "            print(f'Min salary: {round(data[:,3].min(),2)} USD')\n",
    "            print(f'Mean salary: {round(data[:,3].mean(),2)} USD')\n",
    "            print(f'Std of salary: {round(data[:,3].std(),2)} USD')\n",
    "        if gender.lower() == 'male':\n",
    "            print('This statisctics are for only Male:')\n",
    "            a = data[:,1] == 0\n",
    "            data = data[a]\n",
    "            print(f'Max salary: {round(data[:,3].max(), 2)} USD')\n",
    "            print(f'Min salary: {round(data[:,3].min(), 2)} USD')\n",
    "            print(f'Mean salary: {round(data[:,3].mean(), 2)} USD')\n",
    "            print(f'Std of salary: {round(data[:,3].std(), 2)} USD')\n",
    "        \n",
    "\n",
    "\n",
    "#Конец вашего кода"
   ]
  },
  {
   "cell_type": "code",
   "execution_count": 133,
   "metadata": {},
   "outputs": [
    {
     "name": "stdout",
     "output_type": "stream",
     "text": [
      "This statisctics are for both genders:\n",
      "Max salary: 150000 USD\n",
      "Min salary: 15000 USD\n",
      "Mean salary: 69742.5 USD\n",
      "Std of salary: 34054.31 USD\n"
     ]
    }
   ],
   "source": [
    "salary_info(filt_data)"
   ]
  },
  {
   "cell_type": "markdown",
   "metadata": {},
   "source": [
    "### Ожидаемый результат:\n",
    "\n",
    "```\n",
    "This statisctics are for both genders:\n",
    "Max salary: 150000.00 USD\n",
    "Min salary: 15000.00 USD\n",
    "Mean salary: 69742.50 USD\n",
    "Std of salary: 34054.31 USD\n",
    "```"
   ]
  },
  {
   "cell_type": "code",
   "execution_count": 134,
   "metadata": {},
   "outputs": [
    {
     "name": "stdout",
     "output_type": "stream",
     "text": [
      "This statisctics are for only Female:\n",
      "Max salary: 150000 USD\n",
      "Min salary: 15000 USD\n",
      "Mean salary: 71759.8 USD\n",
      "Std of salary: 35507.89 USD\n"
     ]
    }
   ],
   "source": [
    "salary_info(filt_data, gender=\"Female\")"
   ]
  },
  {
   "cell_type": "markdown",
   "metadata": {},
   "source": [
    "### Ожидаемый результат:\n",
    "\n",
    "```\n",
    "This statisctics are for only Female:\n",
    "Max salary: 150000.00 USD\n",
    "Min salary: 15000.00 USD\n",
    "Mean salary: 71759.80 USD\n",
    "Std of salary: 35507.89 USD\n",
    "```"
   ]
  },
  {
   "cell_type": "code",
   "execution_count": 135,
   "metadata": {},
   "outputs": [
    {
     "name": "stdout",
     "output_type": "stream",
     "text": [
      "This statisctics are for only Male:\n",
      "Max salary: 150000 USD\n",
      "Min salary: 15000 USD\n",
      "Mean salary: 67642.86 USD\n",
      "Std of salary: 32339.0 USD\n"
     ]
    }
   ],
   "source": [
    "salary_info(filt_data, gender=\"male\")"
   ]
  },
  {
   "cell_type": "markdown",
   "metadata": {},
   "source": [
    "### Ожидаемый результат:\n",
    "\n",
    "```\n",
    "This statisctics are for only Male:\n",
    "Max salary: 150000.00 USD\n",
    "Min salary: 15000.00 USD\n",
    "Mean salary: 67642.86 USD\n",
    "Std of salary: 32339.00 USD\n",
    "```"
   ]
  },
  {
   "cell_type": "markdown",
   "metadata": {},
   "source": [
    "3. Вы должны реализовать функцию ```age_info(data, gender=None)```. Используя логическое индексирование, рассчитайте максимальное, минимальное, среднее, и стандартное отклонение возрастов."
   ]
  },
  {
   "cell_type": "code",
   "execution_count": 136,
   "metadata": {},
   "outputs": [],
   "source": [
    "#Начало вашего кода\n",
    "def age_info(data, gender=None):\n",
    "    data = np.array(data)\n",
    "    if gender == None:\n",
    "        print('This statisctics are for both genders:')\n",
    "        print(f'Max age: {round(data[:,2].max(),2)} years old')\n",
    "        print(f'Min age: {round(data[:,2].min(),2)} years old')\n",
    "        print(f'Mean age: {round(data[:,2].mean(),2)} years old')\n",
    "        print(f'Std of age: {round(data[:,2].std(),2)} years old')\n",
    "    else:\n",
    "        if gender.lower() == 'female':\n",
    "            print('This statisctics are for only Female:')\n",
    "            a = data[:,1] == 1\n",
    "            data = data[a]\n",
    "            print(f'Max age: {round(data[:,2].max(),2)} years old')\n",
    "            print(f'Min age: {round(data[:,2].min(),2)} years old')\n",
    "            print(f'Mean age: {round(data[:,2].mean(),2)} years old')\n",
    "            print(f'Std of age: {round(data[:,2].std(),2)} years old')\n",
    "        if gender.lower() == 'male':\n",
    "            print('This statisctics are for only Male:')\n",
    "            a = data[:,1] == 0\n",
    "            data = data[a]\n",
    "            print(f'Max age: {round(data[:,2].max(),2)} years old')\n",
    "            print(f'Min age: {round(data[:,2].min(),2)} years old')\n",
    "            print(f'Mean age: {round(data[:,2].mean(),2)} years old')\n",
    "            print(f'Std of age: {round(data[:,2].std(),2)} years old')\n",
    "#Конец вашего кода"
   ]
  },
  {
   "cell_type": "code",
   "execution_count": 137,
   "metadata": {},
   "outputs": [
    {
     "name": "stdout",
     "output_type": "stream",
     "text": [
      "This statisctics are for both genders:\n",
      "Max age: 60 years old\n",
      "Min age: 18 years old\n",
      "Mean age: 37.66 years old\n",
      "Std of age: 10.47 years old\n"
     ]
    }
   ],
   "source": [
    "age_info(filt_data)"
   ]
  },
  {
   "cell_type": "markdown",
   "metadata": {},
   "source": [
    "### Ожидаемый результат:\n",
    "\n",
    "```\n",
    "This statisctics are for both genders:\n",
    "Max age: 60.00 years old\n",
    "Min age: 18.00 years old\n",
    "Mean age: 37.66 years old\n",
    "Std of age: 10.47 years\n",
    "```"
   ]
  },
  {
   "cell_type": "code",
   "execution_count": 138,
   "metadata": {},
   "outputs": [
    {
     "name": "stdout",
     "output_type": "stream",
     "text": [
      "This statisctics are for only Female:\n",
      "Max age: 60 years old\n",
      "Min age: 18 years old\n",
      "Mean age: 38.41 years old\n",
      "Std of age: 10.83 years old\n"
     ]
    }
   ],
   "source": [
    "age_info(filt_data,\"FEMALE\")"
   ]
  },
  {
   "cell_type": "markdown",
   "metadata": {},
   "source": [
    "### Ожидаемый результат:\n",
    "\n",
    "```\n",
    "This statisctics are for only Female:\n",
    "Max age: 60.00 years old\n",
    "Min age: 18.00 years old\n",
    "Mean age: 38.41 years old\n",
    "Std of age: 10.83 years\n",
    "```"
   ]
  },
  {
   "cell_type": "code",
   "execution_count": 139,
   "metadata": {},
   "outputs": [
    {
     "name": "stdout",
     "output_type": "stream",
     "text": [
      "This statisctics are for only Male:\n",
      "Max age: 60 years old\n",
      "Min age: 18 years old\n",
      "Mean age: 36.87 years old\n",
      "Std of age: 10.02 years old\n"
     ]
    }
   ],
   "source": [
    "age_info(filt_data,\"mALE\")"
   ]
  },
  {
   "cell_type": "markdown",
   "metadata": {},
   "source": [
    "### Ожидаемый результат:\n",
    "\n",
    "```\n",
    "This statisctics are for only Male:\n",
    "Max age: 60.00 years old\n",
    "Min age: 18.00 years old\n",
    "Mean age: 36.87 years old\n",
    "Std of age: 10.02 years\n",
    "```"
   ]
  },
  {
   "cell_type": "markdown",
   "metadata": {},
   "source": [
    "4. Реализовать функции ```salary_info_purchased(data, gender=None, purchased=None)``` и ```age_info_purchased(data, gender=None, purchased=None)```, возвращая статистику, как в задачах 2 и 3, но в зависимости от того, приобрел ли человек продукт или нет."
   ]
  },
  {
   "cell_type": "code",
   "execution_count": 140,
   "metadata": {},
   "outputs": [],
   "source": [
    "#Начало вашего кода\n",
    "def salary_info_purchased(data, gender=None, purchased=None):\n",
    "    data = np.array(data)\n",
    "    if gender == None:\n",
    "        if purchased == None:\n",
    "            print('This statisctics are for both genders:')\n",
    "        else:\n",
    "            if purchased == True:\n",
    "                print('This statisctics are for both genders and who purchased:')\n",
    "                a = data[:, 4] == 1\n",
    "                data = data[a]\n",
    "            if purchased == False:\n",
    "                print('This statisctics are for both genders and who not purchased:')\n",
    "                a = data[:, 4] == 0\n",
    "                data = data[a]\n",
    "    else:\n",
    "        if gender.lower() == 'female':\n",
    "            a = data[:,1] == 1\n",
    "            data = data[a]\n",
    "            if purchased == None:\n",
    "                print('This statisctics are for only Female:')\n",
    "            if purchased == True: \n",
    "                print('This statisctics are for only Female and who purchased:')\n",
    "                a = data[:, 4] == 1\n",
    "                data = data[a]\n",
    "            if purchased == False:\n",
    "                print('This statisctics are for only Female and who did not purchased:')\n",
    "                a = data[:, 4] == 0\n",
    "                data = data[a]\n",
    "        if gender.lower() == 'male':\n",
    "            a = data[:,1] == 0\n",
    "            data = data[a]\n",
    "            if purchased == None:\n",
    "                print('This statisctics are for only Male:')\n",
    "            if purchased == True: \n",
    "                print('This statisctics are for only Male and who purchased:')\n",
    "                a = data[:, 4] == 1\n",
    "                data = data[a]\n",
    "            if purchased == False:\n",
    "                print('This statisctics are for only Male and who did not purchased:')\n",
    "                a = data[:, 4] == 0\n",
    "                data = data[a]\n",
    "    print(f'Max salary: {round(data[:,3].max(),2)} USD')\n",
    "    print(f'Min salary: {round(data[:,3].min(),2)} USD')\n",
    "    print(f'Mean salary: {round(data[:,3].mean(),2)} USD')\n",
    "    print(f'Std of salary: {round(data[:,3].std(),2)} USD')\n",
    "        \n",
    "\n",
    "#Конец вашего кода"
   ]
  },
  {
   "cell_type": "code",
   "execution_count": 141,
   "metadata": {},
   "outputs": [
    {
     "name": "stdout",
     "output_type": "stream",
     "text": [
      "This statisctics are for both genders:\n",
      "Max salary: 150000 USD\n",
      "Min salary: 15000 USD\n",
      "Mean salary: 69742.5 USD\n",
      "Std of salary: 34054.31 USD\n",
      "\n",
      "\n",
      "This statisctics are for only Female:\n",
      "Max salary: 150000 USD\n",
      "Min salary: 15000 USD\n",
      "Mean salary: 71759.8 USD\n",
      "Std of salary: 35507.89 USD\n",
      "\n",
      "\n",
      "This statisctics are for only Male:\n",
      "Max salary: 150000 USD\n",
      "Min salary: 15000 USD\n",
      "Mean salary: 67642.86 USD\n",
      "Std of salary: 32339.0 USD\n",
      "\n",
      "\n",
      "This statisctics are for both genders and who purchased:\n",
      "Max salary: 150000 USD\n",
      "Min salary: 20000 USD\n",
      "Mean salary: 86272.73 USD\n",
      "Std of salary: 41916.86 USD\n",
      "\n",
      "\n",
      "This statisctics are for only Female and who purchased:\n",
      "Max salary: 150000 USD\n",
      "Min salary: 20000 USD\n",
      "Mean salary: 88714.29 USD\n",
      "Std of salary: 42842.16 USD\n",
      "\n",
      "\n",
      "This statisctics are for only Male and who did not purchased:\n",
      "Max salary: 141000 USD\n",
      "Min salary: 15000 USD\n",
      "Mean salary: 59630.77 USD\n",
      "Std of salary: 23413.72 USD\n",
      "\n",
      "\n"
     ]
    }
   ],
   "source": [
    "salary_info_purchased(filt_data)\n",
    "print(\"\\n\")\n",
    "salary_info_purchased(filt_data, gender=\"Female\")\n",
    "print(\"\\n\")\n",
    "salary_info_purchased(filt_data, gender=\"Male\")\n",
    "print(\"\\n\")\n",
    "salary_info_purchased(filt_data, purchased=True)\n",
    "print(\"\\n\")\n",
    "salary_info_purchased(filt_data, gender=\"Female\", purchased=True)\n",
    "print(\"\\n\")\n",
    "salary_info_purchased(filt_data, gender=\"Male\", purchased=False)\n",
    "print(\"\\n\")"
   ]
  },
  {
   "cell_type": "markdown",
   "metadata": {},
   "source": [
    "### Ожидаемый результат:\n",
    "\n",
    "```\n",
    "This statisctics are for both genders:\n",
    "Max salary: 150000.00 USD\n",
    "Min salary: 15000.00 USD\n",
    "Mean salary: 69742.50 USD\n",
    "Std of salary: 34054.31 USD\n",
    "\n",
    "\n",
    "This statisctics are for only Female:\n",
    "Max salary: 150000.00 USD\n",
    "Min salary: 15000.00 USD\n",
    "Mean salary: 71759.80 USD\n",
    "Std of salary: 35507.89 USD\n",
    "\n",
    "\n",
    "This statisctics are for only Male:\n",
    "Max salary: 150000.00 USD\n",
    "Min salary: 15000.00 USD\n",
    "Mean salary: 67642.86 USD\n",
    "Std of salary: 32339.00 USD\n",
    "\n",
    "\n",
    "This statisctics are for both genders and who purchased:\n",
    "Max salary: 150000.00 USD\n",
    "Min salary: 20000.00 USD\n",
    "Mean salary: 86272.73 USD\n",
    "Std of salary: 41916.86 USD\n",
    "\n",
    "\n",
    "This statisctics are for only Female and who purchased:\n",
    "Max salary: 150000.00 USD\n",
    "Min salary: 20000.00 USD\n",
    "Mean salary: 88714.29 USD\n",
    "Std of salary: 42842.16 USD\n",
    "\n",
    "\n",
    "This statisctics are for only Male and who did not purchased:\n",
    "Max salary: 141000.00 USD\n",
    "Min salary: 15000.00 USD\n",
    "Mean salary: 59630.77 USD\n",
    "Std of salary: 23413.72 USD\n",
    "```"
   ]
  },
  {
   "cell_type": "code",
   "execution_count": 144,
   "metadata": {},
   "outputs": [],
   "source": [
    "#Начало вашего кода\n",
    "def age_info_purchased(data, gender=None, purchased=None):\n",
    "    data = np.array(data)\n",
    "    if gender == None:\n",
    "        if purchased == None:\n",
    "            print('This statisctics are for both genders:')\n",
    "        else:\n",
    "            if purchased == True:\n",
    "                print('This statisctics are for both genders and who purchased:')\n",
    "                a = data[:, 4] == 1\n",
    "                data = data[a]\n",
    "            if purchased == False:\n",
    "                print('This statisctics are for both genders and who not purchased:')\n",
    "                a = data[:, 4] == 0\n",
    "                data = data[a]\n",
    "    else:\n",
    "        if gender.lower() == 'female':\n",
    "            a = data[:,1] == 1\n",
    "            data = data[a]\n",
    "            if purchased == None:\n",
    "                print('This statisctics are for only Female:')\n",
    "            if purchased == True: \n",
    "                print('This statisctics are for only Female and who purchased:')\n",
    "                a = data[:, 4] == 1\n",
    "                data = data[a]\n",
    "            if purchased == False:\n",
    "                print('This statisctics are for only Female and who did not purchased:')\n",
    "                a = data[:, 4] == 0\n",
    "                data = data[a]\n",
    "        if gender.lower() == 'male':\n",
    "            a = data[:,1] == 0\n",
    "            data = data[a]\n",
    "            if purchased == None:\n",
    "                print('This statisctics are for only Male:')\n",
    "            if purchased == True: \n",
    "                print('This statisctics are for only Male and who purchased:')\n",
    "                a = data[:, 4] == 1\n",
    "                data = data[a]\n",
    "            if purchased == False: \n",
    "                print('This statisctics are for only Male and who did not purchased:')\n",
    "                a = data[:, 4] == 0\n",
    "                data = data[a]\n",
    "    print(f'Max age: {round(data[:,2].max(),2)} USD')\n",
    "    print(f'Min age: {round(data[:,2].min(),2)} USD')\n",
    "    print(f'Mean age: {round(data[:,2].mean(),2)} USD')\n",
    "    print(f'Std of age: {round(data[:,2].std(),2)} USD')\n",
    "        \n",
    "\n",
    "#Конец вашего кода"
   ]
  },
  {
   "cell_type": "code",
   "execution_count": 145,
   "metadata": {},
   "outputs": [
    {
     "name": "stdout",
     "output_type": "stream",
     "text": [
      "This statisctics are for both genders:\n",
      "Max age: 60 USD\n",
      "Min age: 18 USD\n",
      "Mean age: 37.66 USD\n",
      "Std of age: 10.47 USD\n",
      "\n",
      "\n",
      "This statisctics are for only Female:\n",
      "Max age: 60 USD\n",
      "Min age: 18 USD\n",
      "Mean age: 38.41 USD\n",
      "Std of age: 10.83 USD\n",
      "\n",
      "\n",
      "This statisctics are for only Male:\n",
      "Max age: 60 USD\n",
      "Min age: 18 USD\n",
      "Mean age: 36.87 USD\n",
      "Std of age: 10.02 USD\n",
      "\n",
      "\n",
      "This statisctics are for both genders and who purchased:\n",
      "Max age: 60 USD\n",
      "Min age: 27 USD\n",
      "Mean age: 46.39 USD\n",
      "Std of age: 8.58 USD\n",
      "\n",
      "\n",
      "This statisctics are for only Female and who purchased:\n",
      "Max age: 60 USD\n",
      "Min age: 27 USD\n",
      "Mean age: 47.16 USD\n",
      "Std of age: 8.41 USD\n",
      "\n",
      "\n",
      "This statisctics are for only Male and who did not purchased:\n",
      "Max age: 49 USD\n",
      "Min age: 18 USD\n",
      "Mean age: 32.48 USD\n",
      "Std of age: 7.48 USD\n",
      "\n",
      "\n"
     ]
    }
   ],
   "source": [
    "age_info_purchased(filt_data)\n",
    "print(\"\\n\")\n",
    "age_info_purchased(filt_data, gender=\"Female\")\n",
    "print(\"\\n\")\n",
    "age_info_purchased(filt_data, gender=\"Male\")\n",
    "print(\"\\n\")\n",
    "age_info_purchased(filt_data, purchased=True)\n",
    "print(\"\\n\")\n",
    "age_info_purchased(filt_data, gender=\"Female\", purchased=True)\n",
    "print(\"\\n\")\n",
    "age_info_purchased(filt_data, gender=\"Male\", purchased=False)\n",
    "print(\"\\n\")"
   ]
  },
  {
   "cell_type": "markdown",
   "metadata": {},
   "source": [
    "### Ожидаемый результат:\n",
    "\n",
    "```\n",
    "This statisctics are for both genders:\n",
    "Max age: 60.00 years old\n",
    "Min age: 18.00 years old\n",
    "Mean age: 37.66 years old\n",
    "Std of age: 10.47 years\n",
    "\n",
    "\n",
    "This statisctics are for only Female:\n",
    "Max age: 60.00 years old\n",
    "Min age: 18.00 years old\n",
    "Mean age: 38.41 years old\n",
    "Std of age: 10.83 years\n",
    "\n",
    "\n",
    "This statisctics are for only Male:\n",
    "Max age: 60.00 years old\n",
    "Min age: 18.00 years old\n",
    "Mean age: 36.87 years old\n",
    "Std of age: 10.02 years\n",
    "\n",
    "\n",
    "This statisctics are for both genders and who purchased:\n",
    "Max age: 60.00 years old\n",
    "Min age: 27.00 years old\n",
    "Mean age: 46.39 years old\n",
    "Std of age:  8.58 years\n",
    "\n",
    "\n",
    "This statisctics are for only Female and who purchased:\n",
    "Max age: 60.00 years old\n",
    "Min age: 27.00 years old\n",
    "Mean age: 47.16 years old\n",
    "Std of age:  8.41 years\n",
    "\n",
    "\n",
    "This statisctics are for only Male and who did not purchased:\n",
    "Max age: 49.00 years old\n",
    "Min age: 18.00 years old\n",
    "Mean age: 32.48 years old\n",
    "Std of age:  7.48 years\n",
    "```"
   ]
  },
  {
   "cell_type": "markdown",
   "metadata": {},
   "source": [
    "# Прекрасная работа!"
   ]
  },
  {
   "cell_type": "code",
   "execution_count": null,
   "metadata": {},
   "outputs": [],
   "source": []
  }
 ],
 "metadata": {
  "kernelspec": {
   "display_name": "Python 3",
   "language": "python",
   "name": "python3"
  },
  "language_info": {
   "codemirror_mode": {
    "name": "ipython",
    "version": 3
   },
   "file_extension": ".py",
   "mimetype": "text/x-python",
   "name": "python",
   "nbconvert_exporter": "python",
   "pygments_lexer": "ipython3",
   "version": "3.8.8"
  }
 },
 "nbformat": 4,
 "nbformat_minor": 2
}
