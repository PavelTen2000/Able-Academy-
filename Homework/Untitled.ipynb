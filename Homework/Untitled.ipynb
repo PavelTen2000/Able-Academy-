{
 "cells": [
  {
   "cell_type": "code",
   "execution_count": 1,
   "id": "fc137439",
   "metadata": {},
   "outputs": [],
   "source": [
    "ans = \"qp1\"\n",
    "str2 = 'rg-h3-123-c'\n",
    "ans = ans + str2.split('-')[-1]"
   ]
  },
  {
   "cell_type": "code",
   "execution_count": 3,
   "id": "c1c9e29f",
   "metadata": {},
   "outputs": [
    {
     "data": {
      "text/plain": [
       "'c'"
      ]
     },
     "execution_count": 3,
     "metadata": {},
     "output_type": "execute_result"
    }
   ],
   "source": [
    "str2.split('-')[-1]"
   ]
  },
  {
   "cell_type": "code",
   "execution_count": 2,
   "id": "73827fcd",
   "metadata": {},
   "outputs": [
    {
     "data": {
      "text/plain": [
       "'qp1c'"
      ]
     },
     "execution_count": 2,
     "metadata": {},
     "output_type": "execute_result"
    }
   ],
   "source": [
    "ans"
   ]
  },
  {
   "cell_type": "code",
   "execution_count": 4,
   "id": "c435e785",
   "metadata": {},
   "outputs": [],
   "source": [
    "x = [['qom', 'market', 451901], [10,20,30], [31,'list', 'area']]"
   ]
  },
  {
   "cell_type": "code",
   "execution_count": 11,
   "id": "c8a23419",
   "metadata": {},
   "outputs": [
    {
     "data": {
      "text/plain": [
       "'a'"
      ]
     },
     "execution_count": 11,
     "metadata": {},
     "output_type": "execute_result"
    }
   ],
   "source": [
    "x[0][1][1] #+ str([x[0][2]%2) + str(x[1][2] + x[2][0]) + x[2][-1][-1]"
   ]
  },
  {
   "cell_type": "code",
   "execution_count": 17,
   "id": "ab5ebf5a",
   "metadata": {},
   "outputs": [
    {
     "name": "stdout",
     "output_type": "stream",
     "text": [
      "19\n"
     ]
    }
   ],
   "source": [
    "numbers_1 = [1, 2, 5, 7, 11, 3, 8]\n",
    "numbers_2 = [4, 6, 11, 8, 77]\n",
    "c1 = 0 \n",
    "c2 = 0\n",
    "t = sum(numbers_1[:2])\n",
    "for i in numbers_1:\n",
    "    for j in numbers_2:\n",
    "        if (i > j and j % 2 == 0):\n",
    "            c1 += i - j \n",
    "            break\n",
    "    if (c1 > t):\n",
    "        c2 += 1\n",
    "ans = c1 + c2\n",
    "print (ans)\n"
   ]
  },
  {
   "cell_type": "code",
   "execution_count": null,
   "id": "db4944c9",
   "metadata": {},
   "outputs": [],
   "source": []
  }
 ],
 "metadata": {
  "kernelspec": {
   "display_name": "Python 3",
   "language": "python",
   "name": "python3"
  },
  "language_info": {
   "codemirror_mode": {
    "name": "ipython",
    "version": 3
   },
   "file_extension": ".py",
   "mimetype": "text/x-python",
   "name": "python",
   "nbconvert_exporter": "python",
   "pygments_lexer": "ipython3",
   "version": "3.8.8"
  }
 },
 "nbformat": 4,
 "nbformat_minor": 5
}
