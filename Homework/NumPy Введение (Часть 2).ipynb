{
 "cells": [
  {
   "cell_type": "markdown",
   "metadata": {},
   "source": [
    "### NumPy: Введение (Часть 2) [Домашнее задание]\n",
    "\n",
    "> **Пожалуйста, избегайте использования одномерных массивов numpy.ndarray.**\n",
    "> **Пишите код только там, где это показано для записи. Не удаляйте комментарии!**"
   ]
  },
  {
   "cell_type": "markdown",
   "metadata": {},
   "source": [
    "1. Импортируйте пакет NumPy"
   ]
  },
  {
   "cell_type": "code",
   "execution_count": 31,
   "metadata": {},
   "outputs": [
    {
     "name": "stdout",
     "output_type": "stream",
     "text": [
      "1.20.1\n"
     ]
    }
   ],
   "source": [
    "# Начало вашего кода\n",
    "import numpy as np\n",
    "# Конец вашего кода\n",
    "print(np.__version__)"
   ]
  },
  {
   "cell_type": "markdown",
   "metadata": {},
   "source": [
    "### Ожидаемый результат\n",
    "```\n",
    "1.17.4\n",
    "```"
   ]
  },
  {
   "cell_type": "markdown",
   "metadata": {},
   "source": [
    "2. Создайте двумерный numpy.ndarray **numbers**, где первая строка содержит четные числа от 0 до 10, а вторая строка содержит нечетные числа от 0 до 10 (10 не учитывается в обоих случаях)."
   ]
  },
  {
   "cell_type": "code",
   "execution_count": 32,
   "metadata": {},
   "outputs": [
    {
     "name": "stdout",
     "output_type": "stream",
     "text": [
      "[[0 2 4 6 8]\n",
      " [1 3 5 7 9]]\n"
     ]
    }
   ],
   "source": [
    "# Начало вашего кода\n",
    "num_list = [[0,2,4,6,8,] , [1,3,5,7,9]] \n",
    "numbers = np.array(num_list)\n",
    "# Конец вашего кода\n",
    "print(numbers)"
   ]
  },
  {
   "cell_type": "markdown",
   "metadata": {},
   "source": [
    "### Ожидаемый результат\n",
    "```\n",
    "[[0 2 4 6 8]\n",
    " [1 3 5 7 9]]\n",
    "```"
   ]
  },
  {
   "cell_type": "markdown",
   "metadata": {},
   "source": [
    "3. Пожалуйста, проверьте все важные атрибуты (упомянутые в видео-лекции) для numpy.ndarray even_np и распечатайте их."
   ]
  },
  {
   "cell_type": "code",
   "execution_count": 3,
   "metadata": {},
   "outputs": [
    {
     "name": "stdout",
     "output_type": "stream",
     "text": [
      "2\n",
      "(2, 5)\n",
      "10\n",
      "int32\n",
      "[[0 1]\n",
      " [2 3]\n",
      " [4 5]\n",
      " [6 7]\n",
      " [8 9]]\n"
     ]
    }
   ],
   "source": [
    "# Начало вашего кода\n",
    "print(numbers.ndim)\n",
    "print(numbers.shape)\n",
    "print(numbers.size)\n",
    "print(numbers.dtype)\n",
    "print(numbers.T)\n",
    "# Конец вашего кода"
   ]
  },
  {
   "cell_type": "markdown",
   "metadata": {},
   "source": [
    "### Ожидаемый результат\n",
    "```\n",
    "2\n",
    "(2, 5)\n",
    "10\n",
    "int64\n",
    "[[0 1]\n",
    " [2 3]\n",
    " [4 5]\n",
    " [6 7]\n",
    " [8 9]]\n",
    "```"
   ]
  },
  {
   "cell_type": "markdown",
   "metadata": {},
   "source": [
    "4. Найдите максимальное, минимальное, среднее, стандартное отклонение, используя методы numpy.ndarray."
   ]
  },
  {
   "cell_type": "code",
   "execution_count": 33,
   "metadata": {},
   "outputs": [
    {
     "name": "stdout",
     "output_type": "stream",
     "text": [
      "9\n",
      "0\n",
      "4.5\n",
      "2.8722813232690143\n"
     ]
    }
   ],
   "source": [
    "# Начало вашего кода\n",
    "overall_max = numbers.max()\n",
    "overall_min = numbers.min()\n",
    "overall_mean = numbers.mean()\n",
    "overall_std = numbers.std()\n",
    "# Конец вашего кода\n",
    "print(overall_max)\n",
    "print(overall_min)\n",
    "print(overall_mean)\n",
    "print(overall_std)"
   ]
  },
  {
   "cell_type": "markdown",
   "metadata": {},
   "source": [
    "### Ожидаемый результат\n",
    "```\n",
    "9\n",
    "0\n",
    "4.5\n",
    "2.8722813232690143\n",
    "```"
   ]
  },
  {
   "cell_type": "markdown",
   "metadata": {},
   "source": [
    "5. Найдите максимальное, минимальное, среднее, стандартное отклонение, используя методы numpy.ndarray для каждого **столбца**."
   ]
  },
  {
   "cell_type": "code",
   "execution_count": 8,
   "metadata": {},
   "outputs": [
    {
     "name": "stdout",
     "output_type": "stream",
     "text": [
      "[[1 3 5 7 9]]\n",
      "[[0 2 4 6 8]]\n",
      "[[0.5 2.5 4.5 6.5 8.5]]\n",
      "[[0.5 0.5 0.5 0.5 0.5]]\n"
     ]
    }
   ],
   "source": [
    "# Начало вашего кода\n",
    "col_max = numbers.max(axis = 0, keepdims = True)\n",
    "col_min = numbers.min(axis = 0, keepdims = True)\n",
    "col_mean = numbers.mean(axis = 0, keepdims = True)\n",
    "col_std = numbers.std(axis = 0, keepdims = True)\n",
    "# Конец вашего кода\n",
    "print(col_max)\n",
    "print(col_min)\n",
    "print(col_mean)\n",
    "print(col_std)"
   ]
  },
  {
   "cell_type": "markdown",
   "metadata": {},
   "source": [
    "### Ожидаемый результат\n",
    "```\n",
    "[[1 3 5 7 9]]\n",
    "[[0 2 4 6 8]]\n",
    "[[0.5 2.5 4.5 6.5 8.5]]\n",
    "[[0.5 0.5 0.5 0.5 0.5]]\n",
    "```"
   ]
  },
  {
   "cell_type": "markdown",
   "metadata": {},
   "source": [
    "6. Найдите максимальное, минимальное, среднее, стандартное отклонение, используя методы numpy.ndarray для каждой **строки**."
   ]
  },
  {
   "cell_type": "code",
   "execution_count": 34,
   "metadata": {},
   "outputs": [
    {
     "name": "stdout",
     "output_type": "stream",
     "text": [
      "[[8]\n",
      " [9]]\n",
      "[[0]\n",
      " [1]]\n",
      "[[4.]\n",
      " [5.]]\n",
      "[[2.82842712]\n",
      " [2.82842712]]\n"
     ]
    }
   ],
   "source": [
    "# Начало вашего кода\n",
    "row_max = numbers.max(axis = 1, keepdims = True)\n",
    "row_min = numbers.min(axis = 1, keepdims = True)\n",
    "row_mean = numbers.mean(axis = 1, keepdims = True)\n",
    "row_std = numbers.std(axis = 1, keepdims = True)\n",
    "# Конец вашего кода\n",
    "print(row_max)\n",
    "print(row_min)\n",
    "print(row_mean)\n",
    "print(row_std)"
   ]
  },
  {
   "cell_type": "markdown",
   "metadata": {},
   "source": [
    "### Ожидаемый результат\n",
    "```\n",
    "[[8]\n",
    " [9]]\n",
    "[[0]\n",
    " [1]]\n",
    "[[4.]\n",
    " [5.]]\n",
    "[[2.82842712]\n",
    " [2.82842712]]\n",
    "```"
   ]
  },
  {
   "cell_type": "markdown",
   "metadata": {},
   "source": [
    "7. Создайте объект numpy.ndarray из списка list_of_lists, приведенного ниже. Кроме того, рассчитать среднее значение и стандартное отклонение по всем осям."
   ]
  },
  {
   "cell_type": "code",
   "execution_count": 35,
   "metadata": {},
   "outputs": [
    {
     "name": "stdout",
     "output_type": "stream",
     "text": [
      "[[[ 1  2]\n",
      "  [ 3  4]]\n",
      "\n",
      " [[21 22]\n",
      "  [23 24]]]\n"
     ]
    }
   ],
   "source": [
    "list_of_lists = [[[1,2],[3,4]],[[21,22],[23,24]]]\n",
    "# Начало вашего кода\n",
    "thd_nparr = np.array(list_of_lists)\n",
    "# Конец вашего кода\n",
    "print(thd_nparr)"
   ]
  },
  {
   "cell_type": "markdown",
   "metadata": {},
   "source": [
    "### Ожидаемый результат\n",
    "```\n",
    "[[[ 1  2]\n",
    "  [ 3  4]]\n",
    "\n",
    " [[21 22]\n",
    "  [23 24]]]\n",
    "```"
   ]
  },
  {
   "cell_type": "code",
   "execution_count": 36,
   "metadata": {},
   "outputs": [
    {
     "name": "stdout",
     "output_type": "stream",
     "text": [
      "Mean with respect to 0-axis\n",
      "[[[11. 12.]\n",
      "  [13. 14.]]]\n",
      "STD with respect to 0-axis\n",
      "[[[10. 10.]\n",
      "  [10. 10.]]]\n",
      "Mean with respect to 1-axis\n",
      "[[[ 2.  3.]]\n",
      "\n",
      " [[22. 23.]]]\n",
      "STD with respect to 1-axis\n",
      "[[[1. 1.]]\n",
      "\n",
      " [[1. 1.]]]\n",
      "Mean with respect to 2-axis\n",
      "[[[ 1.5]\n",
      "  [ 3.5]]\n",
      "\n",
      " [[21.5]\n",
      "  [23.5]]]\n",
      "STD with respect to 2-axis\n",
      "[[[0.5]\n",
      "  [0.5]]\n",
      "\n",
      " [[0.5]\n",
      "  [0.5]]]\n"
     ]
    }
   ],
   "source": [
    "# Начало вашего кода\n",
    "print('Mean with respect to 0-axis')\n",
    "print(thd_nparr.mean(axis = 0 , keepdims = True))\n",
    "print('STD with respect to 0-axis')\n",
    "print(thd_nparr.std(axis = 0 , keepdims = True))\n",
    "print('Mean with respect to 1-axis')\n",
    "print(thd_nparr.mean(axis = 1 , keepdims = True))\n",
    "print('STD with respect to 1-axis')\n",
    "print(thd_nparr.std(axis = 1 , keepdims = True))\n",
    "print('Mean with respect to 2-axis')\n",
    "print(thd_nparr.mean(axis = 2 , keepdims = True))\n",
    "print('STD with respect to 2-axis')\n",
    "print(thd_nparr.std(axis = 2 , keepdims = True))\n",
    "\n",
    "# Конец вашего кода"
   ]
  },
  {
   "cell_type": "markdown",
   "metadata": {},
   "source": [
    "### Ожидаемый результат\n",
    "```\n",
    "Mean with respect to 0-axis\n",
    "[[[11. 12.]\n",
    "  [13. 14.]]]\n",
    "STD with respect to 0-axis\n",
    "[[[10. 10.]\n",
    "  [10. 10.]]]\n",
    "\n",
    "\n",
    "Mean with respect to 1-axis\n",
    "[[[ 2.  3.]]\n",
    "\n",
    " [[22. 23.]]]\n",
    "STD with respect to 1-axis\n",
    "[[[1. 1.]]\n",
    "\n",
    " [[1. 1.]]]\n",
    "\n",
    "\n",
    "Mean with respect to 2-axis\n",
    "[[[ 1.5]\n",
    "  [ 3.5]]\n",
    "\n",
    " [[21.5]\n",
    "  [23.5]]]\n",
    "STD with respect to 2-axis\n",
    "[[[0.5]\n",
    "  [0.5]]\n",
    "\n",
    " [[0.5]\n",
    "  [0.5]]]\n",
    "```"
   ]
  },
  {
   "cell_type": "markdown",
   "metadata": {},
   "source": [
    "8. Пожалуйста, предоставьте применение следующих методов numpy.ndarray ниже:"
   ]
  },
  {
   "cell_type": "code",
   "execution_count": 37,
   "metadata": {},
   "outputs": [
    {
     "data": {
      "text/plain": [
       "array([[[ 1,  2],\n",
       "        [ 3,  4],\n",
       "        [21, 22],\n",
       "        [23, 24]]])"
      ]
     },
     "execution_count": 37,
     "metadata": {},
     "output_type": "execute_result"
    }
   ],
   "source": [
    "# ndarray.reshape()\n",
    "# Начало вашего кода\n",
    "thd_nparr.reshape(1,4,2)\n",
    "# Конец вашего кода"
   ]
  },
  {
   "cell_type": "code",
   "execution_count": 38,
   "metadata": {},
   "outputs": [
    {
     "data": {
      "text/plain": [
       "array([ 1,  2,  3,  4, 21, 22, 23, 24])"
      ]
     },
     "execution_count": 38,
     "metadata": {},
     "output_type": "execute_result"
    }
   ],
   "source": [
    "# ndarray.ravel()\n",
    "# Начало вашего кода\n",
    "thd_nparr.ravel()\n",
    "# Конец вашего кода"
   ]
  },
  {
   "cell_type": "code",
   "execution_count": 39,
   "metadata": {},
   "outputs": [
    {
     "data": {
      "text/plain": [
       "[[[1, 2], [3, 4]], [[21, 22], [23, 24]]]"
      ]
     },
     "execution_count": 39,
     "metadata": {},
     "output_type": "execute_result"
    }
   ],
   "source": [
    "# ndarray.tolist()\n",
    "# Начало вашего кода\n",
    "thd_nparr.tolist()\n",
    "# Конец вашего кода"
   ]
  },
  {
   "cell_type": "code",
   "execution_count": 40,
   "metadata": {},
   "outputs": [],
   "source": [
    "# ndarray.tofile()\n",
    "# Начало вашего кода\n",
    "thd_nparr.tofile('text.txt', sep = ',')\n",
    "# Конец вашего кода"
   ]
  },
  {
   "cell_type": "code",
   "execution_count": 72,
   "metadata": {},
   "outputs": [
    {
     "name": "stdout",
     "output_type": "stream",
     "text": [
      "[[[ 1  2]\n",
      "  [ 3  4]]\n",
      "\n",
      " [[21 22]\n",
      "  [23 24]]]\n"
     ]
    }
   ],
   "source": [
    "# ndarray.sort()\n",
    "# Начало вашего кода\n",
    "thd_nparr.sort()\n",
    "print(thd_nparr)\n",
    "# Конец вашего кода"
   ]
  },
  {
   "cell_type": "code",
   "execution_count": 73,
   "metadata": {},
   "outputs": [
    {
     "data": {
      "text/plain": [
       "array([[[ 1, 21],\n",
       "        [ 3, 23]],\n",
       "\n",
       "       [[ 2, 22],\n",
       "        [ 4, 24]]])"
      ]
     },
     "execution_count": 73,
     "metadata": {},
     "output_type": "execute_result"
    }
   ],
   "source": [
    "# ndarray.transpose()\n",
    "# Начало вашего кода\n",
    "thd_nparr.transpose()\n",
    "# Конец вашего кода"
   ]
  },
  {
   "cell_type": "code",
   "execution_count": 74,
   "metadata": {},
   "outputs": [
    {
     "data": {
      "text/plain": [
       "array([ 1,  2,  3,  4, 21, 22, 23, 24])"
      ]
     },
     "execution_count": 74,
     "metadata": {},
     "output_type": "execute_result"
    }
   ],
   "source": [
    "# ndarray.flatten()\n",
    "# Начало вашего кода\n",
    "thd_nparr.flatten()\n",
    "# Конец вашего кода"
   ]
  },
  {
   "cell_type": "code",
   "execution_count": 75,
   "metadata": {},
   "outputs": [
    {
     "data": {
      "text/plain": [
       "0"
      ]
     },
     "execution_count": 75,
     "metadata": {},
     "output_type": "execute_result"
    }
   ],
   "source": [
    "# ndarray.argmin()\n",
    "# Начало вашего кода\n",
    "thd_nparr.argmin()\n",
    "# Конец вашего кода"
   ]
  },
  {
   "cell_type": "code",
   "execution_count": 76,
   "metadata": {},
   "outputs": [
    {
     "data": {
      "text/plain": [
       "7"
      ]
     },
     "execution_count": 76,
     "metadata": {},
     "output_type": "execute_result"
    }
   ],
   "source": [
    "# ndarray.argmax()\n",
    "# Начало вашего кода\n",
    "thd_nparr.argmax()\n",
    "# Конец вашего кода"
   ]
  },
  {
   "cell_type": "code",
   "execution_count": 77,
   "metadata": {},
   "outputs": [
    {
     "data": {
      "text/plain": [
       "array([  1,   3,   6,  10,  31,  53,  76, 100], dtype=int32)"
      ]
     },
     "execution_count": 77,
     "metadata": {},
     "output_type": "execute_result"
    }
   ],
   "source": [
    "# ndarray.cumsum()\n",
    "# Начало вашего кода\n",
    "thd_nparr.cumsum()\n",
    "# Конец вашего кода"
   ]
  },
  {
   "cell_type": "code",
   "execution_count": 41,
   "metadata": {},
   "outputs": [
    {
     "data": {
      "text/plain": [
       "array([      1,       2,       6,      24,     504,   11088,  255024,\n",
       "       6120576], dtype=int32)"
      ]
     },
     "execution_count": 41,
     "metadata": {},
     "output_type": "execute_result"
    }
   ],
   "source": [
    "# ndarray.cumprod()\n",
    "# Начало вашего кода\n",
    "thd_nparr.cumprod()\n",
    "# Конец вашего кода"
   ]
  },
  {
   "cell_type": "code",
   "execution_count": 42,
   "metadata": {},
   "outputs": [
    {
     "data": {
      "text/plain": [
       "array([[[  7,  10],\n",
       "        [ 15,  22]],\n",
       "\n",
       "       [[ 87, 130],\n",
       "        [ 95, 142]]])"
      ]
     },
     "execution_count": 42,
     "metadata": {},
     "output_type": "execute_result"
    }
   ],
   "source": [
    "# ndarray.dot()\n",
    "# Начало вашего кода\n",
    "thd_nparr.dot([[1,2],[3,4]])\n",
    "# Конец вашего кода"
   ]
  },
  {
   "cell_type": "code",
   "execution_count": 80,
   "metadata": {},
   "outputs": [
    {
     "name": "stdout",
     "output_type": "stream",
     "text": [
      "[[[2 2 2]\n",
      "  [2 2 2]]]\n",
      "[[2 2 2]\n",
      " [2 2 2]]\n"
     ]
    }
   ],
   "source": [
    "# ndarray.squeeze()\n",
    "# Начало вашего кода\n",
    "a = [[[2, 2, 2], [2, 2, 2]]]\n",
    "arr = np.array(a)\n",
    "print(arr)\n",
    "print(arr.squeeze())\n",
    "# Конец вашего кода"
   ]
  },
  {
   "cell_type": "code",
   "execution_count": 81,
   "metadata": {},
   "outputs": [
    {
     "name": "stdout",
     "output_type": "stream",
     "text": [
      "[ 1  2  3  4 21 22 23 24]\n",
      "[ 1  1  2  2  3  3  4  4 21 21 22 22 23 23 24 24]\n",
      "[ 1  1  1  2  2  2  3  3  3  4  4  4 21 21 21 22 22 22 23 23 23 24 24 24]\n"
     ]
    }
   ],
   "source": [
    "# ndarray.repeat()\n",
    "# Начало вашего кода\n",
    "print(thd_nparr.repeat(1))\n",
    "print(thd_nparr.repeat(2))\n",
    "print(thd_nparr.repeat(3))\n",
    "# Конец вашего кода"
   ]
  },
  {
   "cell_type": "markdown",
   "metadata": {},
   "source": [
    "# Прекрасная работа!"
   ]
  },
  {
   "cell_type": "code",
   "execution_count": null,
   "metadata": {},
   "outputs": [],
   "source": []
  }
 ],
 "metadata": {
  "kernelspec": {
   "display_name": "Python 3",
   "language": "python",
   "name": "python3"
  },
  "language_info": {
   "codemirror_mode": {
    "name": "ipython",
    "version": 3
   },
   "file_extension": ".py",
   "mimetype": "text/x-python",
   "name": "python",
   "nbconvert_exporter": "python",
   "pygments_lexer": "ipython3",
   "version": "3.8.8"
  }
 },
 "nbformat": 4,
 "nbformat_minor": 2
}
