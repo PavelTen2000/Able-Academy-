{
 "cells": [
  {
   "cell_type": "markdown",
   "metadata": {},
   "source": [
    "### Основы: Lists (списки) [Домашнее задание]"
   ]
  },
  {
   "cell_type": "markdown",
   "metadata": {},
   "source": [
    "Даны следующие списки. Пожалуйста, выполните следующие задачи."
   ]
  },
  {
   "cell_type": "code",
   "execution_count": 2,
   "metadata": {},
   "outputs": [],
   "source": [
    "arr1 = [100,\"Brad\",-10,1,10.4,3,4,70,24,-9, \"Hello\", \"How\"]\n",
    "arr2 = [100,-10,1,3,4,70,24,-9]\n",
    "arr3 = [100,-10,1,3,10,4,70,24,-9]\n",
    "arr4 = [[1,2,3],[4,5,6]]\n",
    "arr5 = [[1,4],[2,5],[3,6]]"
   ]
  },
  {
   "cell_type": "code",
   "execution_count": 28,
   "metadata": {},
   "outputs": [
    {
     "name": "stdout",
     "output_type": "stream",
     "text": [
      "[100, 'Brad', -10, 1, 10.4, 3, 4, 70, 24, -9, 'Hello', 'How']\n",
      "[100, -10, 1, 3, 4, 70, 24, -9]\n",
      "[100, -10, 1, 3, 10, 4, 70, 24, -9]\n",
      "[[1, 2, 3], [4, 5, 6]]\n",
      "[[1, 4], [2, 5], [3, 6]]\n"
     ]
    }
   ],
   "source": [
    "print(arr1)\n",
    "print(arr2)\n",
    "print(arr3)\n",
    "print(arr4)\n",
    "print(arr5)"
   ]
  },
  {
   "cell_type": "markdown",
   "metadata": {},
   "source": [
    "### 1. Используя все возможные функции, преобразуйте arr1 в arr2."
   ]
  },
  {
   "cell_type": "code",
   "execution_count": 15,
   "metadata": {},
   "outputs": [
    {
     "name": "stdout",
     "output_type": "stream",
     "text": [
      "[100, -10, 1, 3, 4, 70, 24, -9]\n"
     ]
    }
   ],
   "source": [
    "arr1.remove('Brad')\n",
    "arr1.remove('Hello')\n",
    "arr1.remove('How')\n",
    "arr1.remove(10.4)\n",
    "\n",
    "# Конец вашего кода\n",
    "print(arr1)"
   ]
  },
  {
   "cell_type": "markdown",
   "metadata": {},
   "source": [
    "### Ожидаемые результаты:\n",
    "```\n",
    "[100, -10, 1, 3, 4, 70, 24, -9]\n",
    "```"
   ]
  },
  {
   "cell_type": "markdown",
   "metadata": {},
   "source": [
    "### 2. Сделайте транспонирование матриц arr4 в arr5."
   ]
  },
  {
   "cell_type": "code",
   "execution_count": 7,
   "metadata": {
    "scrolled": false
   },
   "outputs": [
    {
     "name": "stdout",
     "output_type": "stream",
     "text": [
      "[[1, 4], [2, 5], [3, 6]]\n"
     ]
    }
   ],
   "source": [
    "arr4 = [[1,2,3],[4,5,6]]\n",
    "arr5 = []\n",
    "for i in range(len(arr4[0])):\n",
    "    a = []\n",
    "    for j in range(len(arr4)):\n",
    "        a.append(arr4[j][i])\n",
    "    arr5.append(a)\n",
    "print(arr5)"
   ]
  },
  {
   "cell_type": "markdown",
   "metadata": {},
   "source": [
    "### Ожидаемые результаты:\n",
    "```\n",
    "[[1, 4], [2, 5], [3, 6]]\n",
    "```"
   ]
  },
  {
   "cell_type": "markdown",
   "metadata": {},
   "source": [
    "### 3. Используя встроенную функцию insert(), преобразуйте arr2 в arr3"
   ]
  },
  {
   "cell_type": "code",
   "execution_count": 24,
   "metadata": {},
   "outputs": [
    {
     "name": "stdout",
     "output_type": "stream",
     "text": [
      "[100, -10, 1, 3, 10, 4, 70, 24, -9]\n"
     ]
    }
   ],
   "source": [
    "arr2.insert(4,10)\n",
    "print(arr2)"
   ]
  },
  {
   "cell_type": "markdown",
   "metadata": {},
   "source": [
    "### Ожидаемые результаты:\n",
    "```\n",
    "[100, -10, 1, 3, 10, 4, 70, 24, -9]\n",
    "```"
   ]
  },
  {
   "cell_type": "markdown",
   "metadata": {},
   "source": [
    "### 4. Отсортируйте приведенный список чисел arr3. Вы не можете использовать встроенную функцию сортировки sort(). Вы можете только использовать цикл for и условные операторы if-elif-else."
   ]
  },
  {
   "cell_type": "code",
   "execution_count": 17,
   "metadata": {
    "scrolled": false
   },
   "outputs": [
    {
     "name": "stdout",
     "output_type": "stream",
     "text": [
      "[-10, -9, 1, 3, 4, 10, 24, 70, 100]\n"
     ]
    }
   ],
   "source": [
    "arr3 = [100,-10,1,3,10,4,70,24,-9]\n",
    "for i in range(len(arr3)):\n",
    "    for j in range(len(arr3)-1):\n",
    "        if arr3[j]>arr3[j+1]:\n",
    "            arr3[j] , arr3[j+1] = arr3[j+1] , arr3[j]\n",
    "print(arr3)\n",
    "            \n",
    "    "
   ]
  },
  {
   "cell_type": "markdown",
   "metadata": {},
   "source": [
    "### Ожидаемые результаты:\n",
    "```\n",
    "[-10, -9, 1, 3, 4, 10, 24, 70, 100]\n",
    "```"
   ]
  },
  {
   "cell_type": "markdown",
   "metadata": {},
   "source": [
    "### 5. Отсортируйте приведенный список чисел arr2 в обратном порядке. Вы не можете использовать встроенную функцию сортировки sort(). Вы можете только использовать цикл for и условные операторы if-elif-else."
   ]
  },
  {
   "cell_type": "code",
   "execution_count": 1,
   "metadata": {},
   "outputs": [
    {
     "name": "stdout",
     "output_type": "stream",
     "text": [
      "[100, 70, 24, 4, 3, 1, -9, -10]\n"
     ]
    }
   ],
   "source": [
    "arr2 = [100,-10,1,3,4,70,24,-9]\n",
    "for i in range(len(arr2)):\n",
    "    for j in range(len(arr2)-1):\n",
    "        if arr2[j]<arr2[j+1]:\n",
    "            arr2[j] , arr2[j+1] = arr2[j+1] , arr2[j]\n",
    "print(arr2)\n",
    "#   Кажется это здесь опечатка. Либо arr3 , а не arr2. Либо Ожидаемые результаты не правельные. Т.к в arr2 нет числа \"10\""
   ]
  },
  {
   "cell_type": "markdown",
   "metadata": {},
   "source": [
    "### Ожидаемые результаты:\n",
    "```\n",
    "[100, 70, 24, 10, 4, 3, 1, -9, -10]\n",
    "```"
   ]
  }
 ],
 "metadata": {
  "kernelspec": {
   "display_name": "Python 3",
   "language": "python",
   "name": "python3"
  },
  "language_info": {
   "codemirror_mode": {
    "name": "ipython",
    "version": 3
   },
   "file_extension": ".py",
   "mimetype": "text/x-python",
   "name": "python",
   "nbconvert_exporter": "python",
   "pygments_lexer": "ipython3",
   "version": "3.8.8"
  }
 },
 "nbformat": 4,
 "nbformat_minor": 2
}
