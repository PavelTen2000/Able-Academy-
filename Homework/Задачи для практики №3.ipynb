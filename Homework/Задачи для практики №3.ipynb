{
 "cells": [
  {
   "cell_type": "markdown",
   "metadata": {},
   "source": [
    "1) Используйте for, .split() и if для создания оператора, который будет печатать слова, начинающиеся с 't':"
   ]
  },
  {
   "cell_type": "code",
   "execution_count": 24,
   "metadata": {},
   "outputs": [
    {
     "name": "stdout",
     "output_type": "stream",
     "text": [
      "the that t this "
     ]
    }
   ],
   "source": [
    "st = 'Print only the words that start with t in this sentence'\n",
    "for i in st.split(' '):\n",
    "    if i[0] == 't' or i[0] == 'T':\n",
    "        print(i, end = ' ')"
   ]
  },
  {
   "cell_type": "markdown",
   "metadata": {},
   "source": [
    "2) Используйте range() для печати всех четных чисел от 0 до 10.(не использовать операторы for, while,if)"
   ]
  },
  {
   "cell_type": "code",
   "execution_count": 25,
   "metadata": {},
   "outputs": [
    {
     "data": {
      "text/plain": [
       "[0, 2, 4, 6, 8, 10]"
      ]
     },
     "execution_count": 25,
     "metadata": {},
     "output_type": "execute_result"
    }
   ],
   "source": [
    "x = range(0, 11, 2)\n",
    "list(x)"
   ]
  },
  {
   "cell_type": "markdown",
   "metadata": {},
   "source": [
    "3) Cоздайте **список** всех чисел от 1 до 50, которые делятся на 3.(именно список)"
   ]
  },
  {
   "cell_type": "code",
   "execution_count": 26,
   "metadata": {},
   "outputs": [
    {
     "name": "stdout",
     "output_type": "stream",
     "text": [
      "[3, 6, 9, 12, 15, 18, 21, 24, 27, 30, 33, 36, 39, 42, 45, 48]\n"
     ]
    }
   ],
   "source": [
    "list = []\n",
    "for i in range(1 , 51):\n",
    "    if i % 3 ==0:\n",
    "        list.append(i)\n",
    "print(list)\n",
    "    "
   ]
  },
  {
   "cell_type": "markdown",
   "metadata": {},
   "source": [
    "4) Просмотрите строку ниже и, если длина слова четная, выведите «четное!»"
   ]
  },
  {
   "cell_type": "code",
   "execution_count": 27,
   "metadata": {},
   "outputs": [
    {
     "name": "stdout",
     "output_type": "stream",
     "text": [
      "\"word\"-четное! \"in\"-четное! \"this\"-четное! \"sentence\"-четное! \"that\"-четное! \"an\"-четное! \"even\"-четное! \"number\"-четное! \"of\"-четное! "
     ]
    }
   ],
   "source": [
    "st = 'Print every word in this sentence that has an even number of letters'\n",
    "for i in st.split(' '):\n",
    "    if len(i) % 2 == 0:\n",
    "        print('\"{}\"-четное!'.format(i),end = ' ')\n"
   ]
  },
  {
   "cell_type": "markdown",
   "metadata": {},
   "source": [
    "5) Создайте список первых букв каждого слова в строке ниже:"
   ]
  },
  {
   "cell_type": "code",
   "execution_count": 28,
   "metadata": {},
   "outputs": [
    {
     "name": "stdout",
     "output_type": "stream",
     "text": [
      "['C', 'a', 'l', 'o', 't', 'f', 'l', 'o', 'e', 'w', 'i', 't', 's']\n"
     ]
    }
   ],
   "source": [
    "st = 'Create a list of the first letters of every word in this string'\n",
    "first_letter_list = []\n",
    "for i in st.split(' '):\n",
    "    first_letter_list.append(i[0])\n",
    "print(first_letter_list)"
   ]
  },
  {
   "cell_type": "markdown",
   "metadata": {},
   "source": [
    "6) Найдите сумму чисел в списке ниже: (с двумя способами)"
   ]
  },
  {
   "cell_type": "code",
   "execution_count": 29,
   "metadata": {},
   "outputs": [
    {
     "name": "stdout",
     "output_type": "stream",
     "text": [
      "55\n"
     ]
    }
   ],
   "source": [
    "l = [1,2,3,4,5,6,7,8,9,10]\n",
    "s = 0\n",
    "for i in l:\n",
    "    s += i\n",
    "print(s)\n",
    "    "
   ]
  },
  {
   "cell_type": "code",
   "execution_count": 30,
   "metadata": {},
   "outputs": [
    {
     "data": {
      "text/plain": [
       "55"
      ]
     },
     "execution_count": 30,
     "metadata": {},
     "output_type": "execute_result"
    }
   ],
   "source": [
    "sum(l)"
   ]
  },
  {
   "cell_type": "markdown",
   "metadata": {},
   "source": [
    "7) Напишите программу на Python, чтобы умножить все элементы в списке."
   ]
  },
  {
   "cell_type": "code",
   "execution_count": 31,
   "metadata": {},
   "outputs": [
    {
     "name": "stdout",
     "output_type": "stream",
     "text": [
      "1890\n"
     ]
    }
   ],
   "source": [
    "l = [2,5,7,3,9]\n",
    "s=1\n",
    "for i in range(len(l)):\n",
    "    s*=l[i]\n",
    "print(s)\n",
    "    "
   ]
  },
  {
   "cell_type": "markdown",
   "metadata": {},
   "source": [
    "8) Напишите программу на Python, чтобы получить наибольшее число из списка."
   ]
  },
  {
   "cell_type": "code",
   "execution_count": 32,
   "metadata": {},
   "outputs": [
    {
     "name": "stdout",
     "output_type": "stream",
     "text": [
      "101\n"
     ]
    }
   ],
   "source": [
    "l = [2,5,7,3,9,11,50,101]\n",
    "num = 0\n",
    "for i in range(len(l)):\n",
    "    if l[i] > num:\n",
    "        num = l[i]\n",
    "print(num)"
   ]
  },
  {
   "cell_type": "markdown",
   "metadata": {},
   "source": [
    "9) Напишите программу на Python, чтобы найти общие элементы из двух списков."
   ]
  },
  {
   "cell_type": "code",
   "execution_count": 33,
   "metadata": {},
   "outputs": [],
   "source": [
    "team_1 = [\"Darkhan\", \"Abilay\", \"Azamat\", \"Zhasulan\"]\n",
    "team_2 = [\"Azamat\", \"Darkhan\", \"Aset\", \"Bolat\",\"Saken\"]\n"
   ]
  },
  {
   "cell_type": "code",
   "execution_count": 34,
   "metadata": {},
   "outputs": [
    {
     "name": "stdout",
     "output_type": "stream",
     "text": [
      "['Darkhan', 'Azamat']\n"
     ]
    }
   ],
   "source": [
    "same_elements = []\n",
    "for i in team_1:\n",
    "    for j in team_2:\n",
    "        if i == j:\n",
    "            same_elements.append(i)\n",
    "print(same_elements)\n",
    "            "
   ]
  },
  {
   "cell_type": "markdown",
   "metadata": {},
   "source": [
    "10) Напишите программу на Python для расширения списка без .append()."
   ]
  },
  {
   "cell_type": "code",
   "execution_count": 35,
   "metadata": {},
   "outputs": [
    {
     "data": {
      "text/plain": [
       "[10, 20, 30, 1, 2, 3, 4, 5, 6]"
      ]
     },
     "execution_count": 35,
     "metadata": {},
     "output_type": "execute_result"
    }
   ],
   "source": [
    "l_1 = [10,20,30]\n",
    "l_2 = [1,2,3,4,5,6]\n",
    "l_3 = l_1 + l_2 \n",
    "l_3"
   ]
  },
  {
   "cell_type": "markdown",
   "metadata": {},
   "source": [
    "11) Напишите программу на Python для суммирования всех элементов в словаре."
   ]
  },
  {
   "cell_type": "code",
   "execution_count": 36,
   "metadata": {},
   "outputs": [
    {
     "name": "stdout",
     "output_type": "stream",
     "text": [
      "293\n"
     ]
    }
   ],
   "source": [
    "my_dict = {'data1':100,'data2':-54,'data3':247}\n",
    "s = 0\n",
    "for i in my_dict:\n",
    "    s += my_dict[i]\n",
    "    \n",
    "print(s)"
   ]
  },
  {
   "cell_type": "markdown",
   "metadata": {},
   "source": [
    "12) Напишите программу на Python, чтобы получить максимальное и минимальное значение в словаре."
   ]
  },
  {
   "cell_type": "code",
   "execution_count": 37,
   "metadata": {},
   "outputs": [
    {
     "name": "stdout",
     "output_type": "stream",
     "text": [
      "-54\n",
      "247\n"
     ]
    }
   ],
   "source": [
    "my_dict = {'data1':100,'data2':-54,'data3':247}\n",
    "list_dict = []\n",
    "for i in my_dict:\n",
    "    list_dict.append(my_dict[i])\n",
    "list_dict = sorted(list_dict)\n",
    "S = list_dict[0]\n",
    "B = list_dict[-1]\n",
    "print(S)\n",
    "print(B)"
   ]
  },
  {
   "cell_type": "markdown",
   "metadata": {},
   "source": [
    "13) Напишите программу на Python, чтобы найти те числа, которые делятся на 7 и кратны 5, между 1500 и 2700 (оба включены)."
   ]
  },
  {
   "cell_type": "code",
   "execution_count": 38,
   "metadata": {},
   "outputs": [
    {
     "name": "stdout",
     "output_type": "stream",
     "text": [
      "1505 1540 1575 1610 1645 1680 1715 1750 1785 1820 1855 1890 1925 1960 1995 2030 2065 2100 2135 2170 2205 2240 2275 2310 2345 2380 2415 2450 2485 2520 2555 2590 2625 2660 2695 "
     ]
    }
   ],
   "source": [
    "for i in range(1500 , 2701):\n",
    "    if i%7 == 0 and i%5 == 0:\n",
    "        print(i , end=' ')"
   ]
  },
  {
   "cell_type": "markdown",
   "metadata": {},
   "source": [
    "14) Напишите программу на Python для подсчета количества четных и нечетных чисел из серии чисел."
   ]
  },
  {
   "cell_type": "code",
   "execution_count": 39,
   "metadata": {
    "scrolled": true
   },
   "outputs": [
    {
     "name": "stdout",
     "output_type": "stream",
     "text": [
      "5\n",
      "6\n"
     ]
    }
   ],
   "source": [
    "numbers = (10,11,12,13,14,15,16,17,18,19,20)\n",
    "odd = 0\n",
    "even = 0\n",
    "for i in numbers:\n",
    "    if i % 2 ==0:\n",
    "        even +=1\n",
    "    else:\n",
    "        odd +=1\n",
    "print(odd)\n",
    "print(even)"
   ]
  },
  {
   "cell_type": "markdown",
   "metadata": {},
   "source": [
    "15) Напишите программу на Python, чтобы получить ряд Фибоначчи от 0 до 50."
   ]
  },
  {
   "cell_type": "code",
   "execution_count": 40,
   "metadata": {},
   "outputs": [
    {
     "name": "stdout",
     "output_type": "stream",
     "text": [
      "[0, 1, 1, 2, 3, 5, 8, 13, 21, 34, 55, 89, 144, 233, 377, 610, 987, 1597, 2584, 4181, 6765, 10946, 17711, 28657, 46368, 75025, 121393, 196418, 317811, 514229, 832040, 1346269, 2178309, 3524578, 5702887, 9227465, 14930352, 24157817, 39088169, 63245986, 102334155, 165580141, 267914296, 433494437, 701408733, 1134903170, 1836311903, 2971215073, 4807526976, 7778742049, 12586269025]\n"
     ]
    }
   ],
   "source": [
    "fib_num = []\n",
    "for i in range(51):\n",
    "    if i == 0 or i == 1:\n",
    "        fib_num.append(i)\n",
    "    else:\n",
    "        num = fib_num[i-2] + fib_num[i-1]\n",
    "        fib_num.append(num)\n",
    "print(fib_num)"
   ]
  },
  {
   "cell_type": "markdown",
   "metadata": {},
   "source": [
    "16) Напишите программу на Python для расчета возраста собаки по собачьим годам.(Для заданного числа 12, вывод должен быть 61 = 2x10.5+10x4)\n",
    "\n",
    "**Примечание: в течение первых двух лет год собаки равен 10,5 человеческим годам. После этого каждый год собаки равен 4 человеческим годам.**"
   ]
  },
  {
   "cell_type": "code",
   "execution_count": 41,
   "metadata": {},
   "outputs": [
    {
     "name": "stdout",
     "output_type": "stream",
     "text": [
      "Возраст собаки:20\n",
      "93.0\n"
     ]
    }
   ],
   "source": [
    "a = int(input('Возраст собаки:'))\n",
    "age = 0\n",
    "\n",
    "for i in range(a):\n",
    "    if i < 2:\n",
    "        age += 10.5\n",
    "    else:\n",
    "        age += 4\n",
    "print(age)\n"
   ]
  },
  {
   "cell_type": "markdown",
   "metadata": {},
   "source": [
    "17) Напишите программу на Python для преобразования названия месяца в количество дней."
   ]
  },
  {
   "cell_type": "code",
   "execution_count": 42,
   "metadata": {},
   "outputs": [
    {
     "name": "stdout",
     "output_type": "stream",
     "text": [
      "Enter month: July\n",
      "31\n"
     ]
    }
   ],
   "source": [
    "a = input(\"Enter month: \")\n",
    "months = {'January' : 31 , 'February' : '28 days in a common year and 29 days in leap years' , 'March' : 31 , 'April' : 30, \n",
    "         'May' : 31 , 'June' : 30 , 'July' : 31 , 'August' : 31 , 'September' : 30 , 'October' : 31 , 'November' : 30,\n",
    "         'December' : 31}\n",
    "print(months[a])"
   ]
  },
  {
   "cell_type": "markdown",
   "metadata": {},
   "source": [
    "18) Проверьте является ли слово палиндромом или нет. \n",
    "\n",
    "**Примечание: Строка считается палиндромом, если она читается одинаково в обоих направлениях.**"
   ]
  },
  {
   "cell_type": "code",
   "execution_count": 43,
   "metadata": {},
   "outputs": [
    {
     "name": "stdout",
     "output_type": "stream",
     "text": [
      "True\n"
     ]
    }
   ],
   "source": [
    "word = \"aibohphobia\"\n",
    "if word == word[:: -1]:\n",
    "    print(True)\n",
    "else :\n",
    "    print(False)"
   ]
  },
  {
   "cell_type": "markdown",
   "metadata": {},
   "source": [
    "19) Рядом стоят несколько студентов, у каждого из которых написано какое-то число на спине. Учащиеся собираются разделиться на две команды, отсчитав их по две: те, кто стоит на четных позициях (на основе 0), перейдут в команду А, а те, кто стоит на нечетной позиции, присоединятся к команде В.\n",
    "\n",
    "Ваша задача - вычислить разницу между суммами чисел, написанными на спинах студентов, которые присоединятся к команде А, и теми, которые написаны на спинах студентов, которые присоединятся к команде Б."
   ]
  },
  {
   "cell_type": "code",
   "execution_count": 47,
   "metadata": {
    "scrolled": true
   },
   "outputs": [
    {
     "name": "stdout",
     "output_type": "stream",
     "text": [
      "13\n"
     ]
    }
   ],
   "source": [
    "students = [1, 11, 13, 6, 14, 10, 23, 25, 16, 23, 30, 9]\n",
    "team_A = []\n",
    "team_B = []\n",
    "S_A = 0\n",
    "S_B = 0 \n",
    "for i in range(len(students)):\n",
    "    if i % 2 == 0:\n",
    "        team_A.append(students[i])\n",
    "    else:\n",
    "        team_B.append(students[i])\n",
    "for i in team_A:\n",
    "    S_A += i\n",
    "for i in team_B:\n",
    "    S_B += i\n",
    "difference = S_A - S_B\n",
    "print(difference)\n",
    "\n",
    "    "
   ]
  },
  {
   "cell_type": "markdown",
   "metadata": {},
   "source": [
    "20) Напишите программу на Python, чтобы найти числа от 100 до 400 (оба включены), где каждая цифра числа является четным числом. Полученные числа должны быть напечатаны в последовательности через запятую."
   ]
  },
  {
   "cell_type": "code",
   "execution_count": 48,
   "metadata": {},
   "outputs": [
    {
     "name": "stdout",
     "output_type": "stream",
     "text": [
      "200, 202, 204, 206, 208, 220, 222, 224, 226, 228, 240, 242, 244, 246, 248, 260, 262, 264, 266, 268, 280, 282, 284, 286, 288, 400, "
     ]
    }
   ],
   "source": [
    "for i in range(100, 401):\n",
    "    i = str(i)\n",
    "    if int(i[0])%2==0 and int(i[1])%2==0 and int(i[2])%2==0:\n",
    "        print( i , end = ', ')"
   ]
  },
  {
   "cell_type": "code",
   "execution_count": null,
   "metadata": {},
   "outputs": [],
   "source": []
  },
  {
   "cell_type": "markdown",
   "metadata": {},
   "source": [
    "# Прекрасная работа!"
   ]
  }
 ],
 "metadata": {
  "kernelspec": {
   "display_name": "Python 3",
   "language": "python",
   "name": "python3"
  },
  "language_info": {
   "codemirror_mode": {
    "name": "ipython",
    "version": 3
   },
   "file_extension": ".py",
   "mimetype": "text/x-python",
   "name": "python",
   "nbconvert_exporter": "python",
   "pygments_lexer": "ipython3",
   "version": "3.8.8"
  }
 },
 "nbformat": 4,
 "nbformat_minor": 2
}
