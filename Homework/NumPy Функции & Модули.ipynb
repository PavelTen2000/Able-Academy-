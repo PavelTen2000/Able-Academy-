{
 "cells": [
  {
   "cell_type": "markdown",
   "metadata": {},
   "source": [
    "### NumPy: Функции & Модули [Домашнее задание]\n",
    "> **\n",
    "> **Пишите код только там, где это показано для записи. Не удаляйте комментарии!**"
   ]
  },
  {
   "cell_type": "markdown",
   "metadata": {},
   "source": [
    "1. Пожалуйста, протестируйте все функции, упомянутые в видео лекции, и постарайтесь разобраться в них. \n",
    "Некоторые функции содержат аргументы, пожалуйста, поэкспериментируйте с ними."
   ]
  },
  {
   "cell_type": "code",
   "execution_count": 2,
   "metadata": {},
   "outputs": [],
   "source": [
    "import numpy as np"
   ]
  },
  {
   "cell_type": "code",
   "execution_count": 4,
   "metadata": {},
   "outputs": [
    {
     "name": "stdout",
     "output_type": "stream",
     "text": [
      "[[[0. 0.]\n",
      "  [0. 0.]]\n",
      "\n",
      " [[0. 0.]\n",
      "  [0. 0.]]]\n"
     ]
    }
   ],
   "source": [
    "# numpy.zeros\n",
    "print(np.zeros((2,2,2)))"
   ]
  },
  {
   "cell_type": "code",
   "execution_count": 5,
   "metadata": {},
   "outputs": [
    {
     "name": "stdout",
     "output_type": "stream",
     "text": [
      "[[[1. 1.]\n",
      "  [1. 1.]]\n",
      "\n",
      " [[1. 1.]\n",
      "  [1. 1.]]]\n"
     ]
    }
   ],
   "source": [
    "# numpy.ones\n",
    "print(np.ones((2,2,2)))"
   ]
  },
  {
   "cell_type": "code",
   "execution_count": 13,
   "metadata": {},
   "outputs": [
    {
     "name": "stdout",
     "output_type": "stream",
     "text": [
      "[[[1234 1234]\n",
      "  [1234 1234]]\n",
      "\n",
      " [[1234 1234]\n",
      "  [1234 1234]]]\n"
     ]
    }
   ],
   "source": [
    "# numpy.full\n",
    "print(np.full((2,2,2), 1234))"
   ]
  },
  {
   "cell_type": "code",
   "execution_count": 30,
   "metadata": {},
   "outputs": [
    {
     "name": "stdout",
     "output_type": "stream",
     "text": [
      "[[1. 0. 0.]\n",
      " [0. 1. 0.]\n",
      " [0. 0. 1.]]\n",
      "[[1. 0. 0. 0. 0. 0. 0. 0. 0. 0.]\n",
      " [0. 1. 0. 0. 0. 0. 0. 0. 0. 0.]\n",
      " [0. 0. 1. 0. 0. 0. 0. 0. 0. 0.]\n",
      " [0. 0. 0. 1. 0. 0. 0. 0. 0. 0.]\n",
      " [0. 0. 0. 0. 1. 0. 0. 0. 0. 0.]\n",
      " [0. 0. 0. 0. 0. 1. 0. 0. 0. 0.]\n",
      " [0. 0. 0. 0. 0. 0. 1. 0. 0. 0.]\n",
      " [0. 0. 0. 0. 0. 0. 0. 1. 0. 0.]\n",
      " [0. 0. 0. 0. 0. 0. 0. 0. 1. 0.]\n",
      " [0. 0. 0. 0. 0. 0. 0. 0. 0. 1.]]\n",
      "[[0. 0. 1. 0. 0.]\n",
      " [0. 0. 0. 1. 0.]\n",
      " [0. 0. 0. 0. 1.]\n",
      " [0. 0. 0. 0. 0.]\n",
      " [0. 0. 0. 0. 0.]\n",
      " [0. 0. 0. 0. 0.]\n",
      " [0. 0. 0. 0. 0.]\n",
      " [0. 0. 0. 0. 0.]\n",
      " [0. 0. 0. 0. 0.]\n",
      " [0. 0. 0. 0. 0.]]\n"
     ]
    }
   ],
   "source": [
    "# numpy.eye\n",
    "print(np.eye(3))\n",
    "print(np.eye(10))\n",
    "print(np.eye(10,5, k = 2))"
   ]
  },
  {
   "cell_type": "code",
   "execution_count": 26,
   "metadata": {},
   "outputs": [
    {
     "name": "stdout",
     "output_type": "stream",
     "text": [
      "[ 0.5  2.   3.5  5.   6.5  8.   9.5 11.  12.5 14.  15.5 17.  18.5 20.\n",
      " 21.5 23.  24.5 26.  27.5 29.  30.5 32.  33.5 35.  36.5 38.  39.5 41.\n",
      " 42.5 44.  45.5 47.  48.5 50.  51.5 53.  54.5 56.  57.5 59.  60.5 62.\n",
      " 63.5 65.  66.5 68.  69.5 71.  72.5 74.  75.5 77.  78.5 80.  81.5 83.\n",
      " 84.5 86.  87.5 89.  90.5 92.  93.5 95.  96.5 98.  99.5]\n"
     ]
    }
   ],
   "source": [
    "# numpy.arange\n",
    "print(np.arange(0.5,100,1.5))"
   ]
  },
  {
   "cell_type": "code",
   "execution_count": 32,
   "metadata": {},
   "outputs": [
    {
     "name": "stdout",
     "output_type": "stream",
     "text": [
      "[5 7 9]\n"
     ]
    }
   ],
   "source": [
    "# numpy.add\n",
    "arr1 = np.array([1,2,3])\n",
    "arr2= np.array([4,5,6])\n",
    "print(np.add(arr1,arr2))"
   ]
  },
  {
   "cell_type": "code",
   "execution_count": 33,
   "metadata": {},
   "outputs": [
    {
     "name": "stdout",
     "output_type": "stream",
     "text": [
      "[-3 -3 -3]\n"
     ]
    }
   ],
   "source": [
    "# numpy.subtract\n",
    "print(np.subtract(arr1,arr2))"
   ]
  },
  {
   "cell_type": "code",
   "execution_count": 35,
   "metadata": {},
   "outputs": [
    {
     "name": "stdout",
     "output_type": "stream",
     "text": [
      "[0.84147098 0.90929743 0.14112001]\n"
     ]
    }
   ],
   "source": [
    "# numpy.sin\n",
    "print(np.sin(arr1))"
   ]
  },
  {
   "cell_type": "code",
   "execution_count": 37,
   "metadata": {},
   "outputs": [
    {
     "name": "stdout",
     "output_type": "stream",
     "text": [
      "[ 4 10 18]\n"
     ]
    }
   ],
   "source": [
    "# numpy.multiply\n",
    "print(np.multiply(arr1,arr2))"
   ]
  },
  {
   "cell_type": "code",
   "execution_count": 38,
   "metadata": {},
   "outputs": [
    {
     "name": "stdout",
     "output_type": "stream",
     "text": [
      "[1.         1.41421356 1.73205081]\n"
     ]
    }
   ],
   "source": [
    "# numpy.sqrt\n",
    "print(np.sqrt(arr1))"
   ]
  },
  {
   "cell_type": "code",
   "execution_count": 44,
   "metadata": {},
   "outputs": [
    {
     "name": "stdout",
     "output_type": "stream",
     "text": [
      "[[1]\n",
      " [2]\n",
      " [4]]\n",
      "[10 12 14]\n",
      "[90]\n"
     ]
    }
   ],
   "source": [
    "# numpy.dot\n",
    "arr2 = np.array([[1],[2],[4]])\n",
    "arr1 = np.array([10,12,14])\n",
    "print(np.dot(arr1,arr2))"
   ]
  },
  {
   "cell_type": "code",
   "execution_count": 46,
   "metadata": {},
   "outputs": [
    {
     "name": "stdout",
     "output_type": "stream",
     "text": [
      "36\n"
     ]
    }
   ],
   "source": [
    "# numpy.sum\n",
    "print(np.sum(arr1))"
   ]
  },
  {
   "cell_type": "code",
   "execution_count": 48,
   "metadata": {},
   "outputs": [
    {
     "data": {
      "text/plain": [
       "array([[0],\n",
       "       [0],\n",
       "       [0]])"
      ]
     },
     "execution_count": 48,
     "metadata": {},
     "output_type": "execute_result"
    }
   ],
   "source": [
    "# numpy.zeros_like\n",
    "np.zeros_like(arr2)"
   ]
  },
  {
   "cell_type": "code",
   "execution_count": 56,
   "metadata": {},
   "outputs": [
    {
     "data": {
      "text/plain": [
       "array([508044688,       431,         0])"
      ]
     },
     "execution_count": 56,
     "metadata": {},
     "output_type": "execute_result"
    }
   ],
   "source": [
    "# numpy.empty_like\n",
    "np.empty_like(arr1)"
   ]
  },
  {
   "cell_type": "code",
   "execution_count": 62,
   "metadata": {},
   "outputs": [
    {
     "name": "stdout",
     "output_type": "stream",
     "text": [
      "[[1 2 3]\n",
      " [4 5 6]]\n",
      "[[1 2]\n",
      " [3 4]\n",
      " [5 6]]\n"
     ]
    }
   ],
   "source": [
    "# numpy.reshape\n",
    "a = np.array([[1,2,3],[4,5,6]])\n",
    "print(a)\n",
    "a =np.reshape(a,(3,2))\n",
    "print(a)"
   ]
  },
  {
   "cell_type": "code",
   "execution_count": 65,
   "metadata": {},
   "outputs": [
    {
     "name": "stdout",
     "output_type": "stream",
     "text": [
      "[ True False False False  True  True]\n"
     ]
    }
   ],
   "source": [
    "# numpy.isnan\n",
    "a = np.array([np.nan,123,123,123,np.nan,np.nan])\n",
    "print(np.isnan(a))"
   ]
  },
  {
   "cell_type": "markdown",
   "metadata": {},
   "source": [
    "2. Пожалуйста, протестируйте все функции модуля ```numpy.random```, упомянутые в видео лекции, и постарайтесь разобраться в них. \n",
    "Некоторые функции содержат аргументы, пожалуйста, поэкспериментируйте с ними."
   ]
  },
  {
   "cell_type": "code",
   "execution_count": 3,
   "metadata": {},
   "outputs": [],
   "source": [
    "import numpy.random as rd "
   ]
  },
  {
   "cell_type": "code",
   "execution_count": 4,
   "metadata": {},
   "outputs": [
    {
     "name": "stdout",
     "output_type": "stream",
     "text": [
      "[[0.31664955 0.62232114]\n",
      " [0.81494437 0.93162905]]\n"
     ]
    }
   ],
   "source": [
    "# numpy.random.sample\n",
    "print(rd.sample((2,2)))"
   ]
  },
  {
   "cell_type": "code",
   "execution_count": 5,
   "metadata": {},
   "outputs": [
    {
     "name": "stdout",
     "output_type": "stream",
     "text": [
      "[[0.53243981 0.68186458]\n",
      " [0.38299734 0.73034296]]\n"
     ]
    }
   ],
   "source": [
    "# numpy.random.random\n",
    "print(rd.random((2,2)))"
   ]
  },
  {
   "cell_type": "code",
   "execution_count": 7,
   "metadata": {},
   "outputs": [
    {
     "name": "stdout",
     "output_type": "stream",
     "text": [
      "[[1 1]\n",
      " [0 1]]\n"
     ]
    }
   ],
   "source": [
    "# numpy.random.randint\n",
    "print(rd.randint(0,2,(2,2)))"
   ]
  },
  {
   "cell_type": "code",
   "execution_count": 81,
   "metadata": {},
   "outputs": [
    {
     "name": "stdout",
     "output_type": "stream",
     "text": [
      "[[1 2 1 2]\n",
      " [1 2 2 1]\n",
      " [1 2 1 2]\n",
      " [2 1 2 2]]\n"
     ]
    },
    {
     "name": "stderr",
     "output_type": "stream",
     "text": [
      "<ipython-input-81-520f6235cbe1>:2: DeprecationWarning: This function is deprecated. Please call randint(1, 2 + 1) instead\n",
      "  print(rd.random_integers(1,2,(4,4)))\n"
     ]
    }
   ],
   "source": [
    "# numpy.random.random_integers\n",
    "print(rd.random_integers(1,2,(4,4)))"
   ]
  },
  {
   "cell_type": "code",
   "execution_count": 82,
   "metadata": {},
   "outputs": [
    {
     "data": {
      "text/plain": [
       "array([1.2114597 , 1.65738664])"
      ]
     },
     "execution_count": 82,
     "metadata": {},
     "output_type": "execute_result"
    }
   ],
   "source": [
    "# numpy.random.uniform\n",
    "rd.uniform((2,2))"
   ]
  },
  {
   "cell_type": "code",
   "execution_count": 127,
   "metadata": {
    "scrolled": true
   },
   "outputs": [],
   "source": [
    "# numpy.random.seed\n",
    "rd.seed(10) #0.771"
   ]
  },
  {
   "cell_type": "code",
   "execution_count": 128,
   "metadata": {},
   "outputs": [
    {
     "name": "stdout",
     "output_type": "stream",
     "text": [
      "0.771320643266746\n"
     ]
    }
   ],
   "source": [
    "print(rd.random())"
   ]
  },
  {
   "cell_type": "code",
   "execution_count": 116,
   "metadata": {},
   "outputs": [],
   "source": [
    "rd.seed(1) #0.417"
   ]
  },
  {
   "cell_type": "code",
   "execution_count": 117,
   "metadata": {},
   "outputs": [
    {
     "name": "stdout",
     "output_type": "stream",
     "text": [
      "0.417022004702574\n"
     ]
    }
   ],
   "source": [
    "print(rd.random())"
   ]
  },
  {
   "cell_type": "code",
   "execution_count": 132,
   "metadata": {
    "scrolled": true
   },
   "outputs": [
    {
     "name": "stdout",
     "output_type": "stream",
     "text": [
      "['a', 'b', 'c', 'd', 'e']\n",
      "['d', 'c', 'e', 'b', 'a']\n"
     ]
    }
   ],
   "source": [
    "# numpy.random.shuffle\n",
    "a = ['a','b','c','d','e']\n",
    "print(a)\n",
    "rd.shuffle(a)\n",
    "print(a)"
   ]
  },
  {
   "cell_type": "code",
   "execution_count": 134,
   "metadata": {},
   "outputs": [
    {
     "name": "stdout",
     "output_type": "stream",
     "text": [
      "[1, 1, 5, 6, 3, 4]\n",
      "[1, 3, 5, 4, 1, 6]\n"
     ]
    }
   ],
   "source": [
    "a = [1,1,5,6,3,4,]\n",
    "print(a)\n",
    "rd.shuffle(a)\n",
    "print(a)"
   ]
  },
  {
   "cell_type": "code",
   "execution_count": 139,
   "metadata": {},
   "outputs": [
    {
     "name": "stdout",
     "output_type": "stream",
     "text": [
      "[1 1 5 6 3 4]\n",
      "[1 5 3 6 1 4]\n"
     ]
    }
   ],
   "source": [
    "a = np.array([1,1,5,6,3,4,])\n",
    "print(a)\n",
    "rd.shuffle(a)\n",
    "print(a)\n"
   ]
  },
  {
   "cell_type": "code",
   "execution_count": 145,
   "metadata": {},
   "outputs": [
    {
     "name": "stdout",
     "output_type": "stream",
     "text": [
      "[6 2 3 4 7 9 5 8 0 1]\n",
      "[4 1 3 6 5 1]\n",
      "[[3 4 5]\n",
      " [0 1 2]\n",
      " [6 7 8]]\n"
     ]
    }
   ],
   "source": [
    "# numpy.random.permutation\n",
    "print(rd.permutation(10))\n",
    "print(rd.permutation([1,1,5,6,3,4,]))\n",
    "a = np.arange(9).reshape((3,3))\n",
    "print(rd.permutation(a))"
   ]
  },
  {
   "cell_type": "code",
   "execution_count": 11,
   "metadata": {},
   "outputs": [
    {
     "name": "stdout",
     "output_type": "stream",
     "text": [
      "[1 0 0 3 4 2 2 0 4 2 2 2 1 3 4 3 3 4 3 0 4 4 2 3 4 0 2 3 3 0 3 2 4 3 2 0 1\n",
      " 4 2 4 1 3 2 0 1 1 1 3 2 4]\n",
      "[0 1 1 0]\n"
     ]
    }
   ],
   "source": [
    "# numpy.random.choice\n",
    "print(np.random.choice(5,50))\n",
    "print(np.random.choice(2, 4))"
   ]
  },
  {
   "cell_type": "markdown",
   "metadata": {},
   "source": [
    "# Прекрасная работа!"
   ]
  }
 ],
 "metadata": {
  "kernelspec": {
   "display_name": "Python 3",
   "language": "python",
   "name": "python3"
  },
  "language_info": {
   "codemirror_mode": {
    "name": "ipython",
    "version": 3
   },
   "file_extension": ".py",
   "mimetype": "text/x-python",
   "name": "python",
   "nbconvert_exporter": "python",
   "pygments_lexer": "ipython3",
   "version": "3.8.8"
  }
 },
 "nbformat": 4,
 "nbformat_minor": 2
}
