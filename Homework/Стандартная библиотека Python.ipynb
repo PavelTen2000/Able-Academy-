{
 "cells": [
  {
   "cell_type": "markdown",
   "metadata": {},
   "source": [
    "### Стандартная библиотека Python [Домашнее задание]"
   ]
  },
  {
   "cell_type": "markdown",
   "metadata": {},
   "source": [
    "Пожалуйста, используйте все функции модулей os, os.path, csv и datetime, приведенные в файле PDF. Постарайтесь понять все функции."
   ]
  },
  {
   "cell_type": "code",
   "execution_count": 1,
   "metadata": {},
   "outputs": [],
   "source": [
    "import os "
   ]
  },
  {
   "cell_type": "code",
   "execution_count": 3,
   "metadata": {},
   "outputs": [
    {
     "data": {
      "text/plain": [
       "['.ipynb_checkpoints', 'Стандартная библиотека Python.ipynb']"
      ]
     },
     "execution_count": 3,
     "metadata": {},
     "output_type": "execute_result"
    }
   ],
   "source": [
    "os.listdir(path = '.')"
   ]
  },
  {
   "cell_type": "code",
   "execution_count": 4,
   "metadata": {},
   "outputs": [
    {
     "data": {
      "text/plain": [
       "['.ipynb_checkpoints',\n",
       " 'airtravel.csv',\n",
       " 'Homework',\n",
       " 'PDF',\n",
       " 'test',\n",
       " 'Стандартная библиотека Python.ipynb']"
      ]
     },
     "execution_count": 4,
     "metadata": {},
     "output_type": "execute_result"
    }
   ],
   "source": [
    "os.listdir(path = '../')"
   ]
  },
  {
   "cell_type": "code",
   "execution_count": 5,
   "metadata": {},
   "outputs": [
    {
     "data": {
      "text/plain": [
       "'C:\\\\Users\\\\User\\\\Desktop\\\\Able 2\\\\Homework'"
      ]
     },
     "execution_count": 5,
     "metadata": {},
     "output_type": "execute_result"
    }
   ],
   "source": [
    "os.getcwd()"
   ]
  },
  {
   "cell_type": "code",
   "execution_count": 6,
   "metadata": {},
   "outputs": [],
   "source": [
    "os.mkdir('./trial')"
   ]
  },
  {
   "cell_type": "code",
   "execution_count": 7,
   "metadata": {},
   "outputs": [],
   "source": [
    "os.rmdir('./trial')"
   ]
  },
  {
   "cell_type": "code",
   "execution_count": 8,
   "metadata": {},
   "outputs": [],
   "source": [
    "import os.path"
   ]
  },
  {
   "cell_type": "code",
   "execution_count": 10,
   "metadata": {},
   "outputs": [
    {
     "name": "stdout",
     "output_type": "stream",
     "text": [
      "<class 'str'>\n",
      "C:\\Users\\User\\Desktop\\Able 2\\Homework\n"
     ]
    }
   ],
   "source": [
    "path = os.getcwd()\n",
    "print(type(path))\n",
    "print(path)"
   ]
  },
  {
   "cell_type": "code",
   "execution_count": 11,
   "metadata": {},
   "outputs": [
    {
     "data": {
      "text/plain": [
       "'Homework'"
      ]
     },
     "execution_count": 11,
     "metadata": {},
     "output_type": "execute_result"
    }
   ],
   "source": [
    "os.path.basename(path)"
   ]
  },
  {
   "cell_type": "code",
   "execution_count": 12,
   "metadata": {},
   "outputs": [
    {
     "data": {
      "text/plain": [
       "'C:\\\\Users\\\\User\\\\Desktop\\\\Able 2'"
      ]
     },
     "execution_count": 12,
     "metadata": {},
     "output_type": "execute_result"
    }
   ],
   "source": [
    "os.path.dirname(path)"
   ]
  },
  {
   "cell_type": "code",
   "execution_count": 13,
   "metadata": {},
   "outputs": [
    {
     "data": {
      "text/plain": [
       "True"
      ]
     },
     "execution_count": 13,
     "metadata": {},
     "output_type": "execute_result"
    }
   ],
   "source": [
    "os.path.exists(path)"
   ]
  },
  {
   "cell_type": "code",
   "execution_count": 14,
   "metadata": {},
   "outputs": [],
   "source": [
    "import csv \n",
    "with open('C:/Users/User/Desktop/Able 2/airtravel.csv', 'r') as f:\n",
    "    csv_data = csv.reader(f)\n",
    "    data = list(csv_data)"
   ]
  },
  {
   "cell_type": "code",
   "execution_count": 15,
   "metadata": {},
   "outputs": [
    {
     "data": {
      "text/plain": [
       "[['Month, \"1958\", \"1959\", \"1960\";;'],\n",
       " ['JAN', '  340', '  360', '  417;;'],\n",
       " ['FEB', '  318', '  342', '  391;;'],\n",
       " ['MAR', '  362', '  406', '  419;;'],\n",
       " ['APR', '  348', '  396', '  461;;'],\n",
       " ['MAY', '  363', '  420', '  472;;'],\n",
       " ['JUN', '  435', '  472', '  535;;'],\n",
       " ['JUL', '  491', '  548', '  622;;(germany)'],\n",
       " ['AUG', '  505', '  559', '  606;;-'],\n",
       " ['SEP', '  404', '  463', '  508;;moscow'],\n",
       " ['OCT', '  359', '  407', '  461;;Kazakhstn'],\n",
       " ['NOV', '  310', '  362', '  390;;kazakhstn'],\n",
       " ['DEC', '  337', '  405', '  432;;Moscow']]"
      ]
     },
     "execution_count": 15,
     "metadata": {},
     "output_type": "execute_result"
    }
   ],
   "source": [
    "data"
   ]
  },
  {
   "cell_type": "code",
   "execution_count": 16,
   "metadata": {},
   "outputs": [
    {
     "name": "stdout",
     "output_type": "stream",
     "text": [
      "['Month, \"1958\", \"1959\", \"1960\";;']\n",
      "['JAN', '  340', '  360', '  417;;']\n",
      "['FEB', '  318', '  342', '  391;;']\n",
      "['MAR', '  362', '  406', '  419;;']\n",
      "['APR', '  348', '  396', '  461;;']\n",
      "['MAY', '  363', '  420', '  472;;']\n",
      "['JUN', '  435', '  472', '  535;;']\n",
      "['JUL', '  491', '  548', '  622;;(germany)']\n",
      "['AUG', '  505', '  559', '  606;;-']\n",
      "['SEP', '  404', '  463', '  508;;moscow']\n",
      "['OCT', '  359', '  407', '  461;;Kazakhstn']\n",
      "['NOV', '  310', '  362', '  390;;kazakhstn']\n",
      "['DEC', '  337', '  405', '  432;;Moscow']\n"
     ]
    }
   ],
   "source": [
    "for i in data:\n",
    "    print(i)"
   ]
  },
  {
   "cell_type": "code",
   "execution_count": 18,
   "metadata": {},
   "outputs": [
    {
     "name": "stdout",
     "output_type": "stream",
     "text": [
      "1\n",
      "9999\n",
      "2021-12-06\n",
      "19:50:14\n",
      "<class 'datetime.time'>\n",
      "2021-12-06 19:53:30\n"
     ]
    }
   ],
   "source": [
    "import datetime as dt\n",
    "print(dt.MINYEAR)\n",
    "print(dt.MAXYEAR)\n",
    "print(dt.date(year = 2021, month = 12, day = 6))\n",
    "print(dt.time(hour=19, minute=50, second=14))\n",
    "print(type(dt.time(hour=19, minute=50, second=14)))\n",
    "print(dt.datetime(year=2021, month=12, day=6, hour=19,minute=53, second=30))"
   ]
  },
  {
   "cell_type": "code",
   "execution_count": null,
   "metadata": {},
   "outputs": [],
   "source": []
  }
 ],
 "metadata": {
  "kernelspec": {
   "display_name": "Python 3",
   "language": "python",
   "name": "python3"
  },
  "language_info": {
   "codemirror_mode": {
    "name": "ipython",
    "version": 3
   },
   "file_extension": ".py",
   "mimetype": "text/x-python",
   "name": "python",
   "nbconvert_exporter": "python",
   "pygments_lexer": "ipython3",
   "version": "3.8.8"
  }
 },
 "nbformat": 4,
 "nbformat_minor": 2
}
