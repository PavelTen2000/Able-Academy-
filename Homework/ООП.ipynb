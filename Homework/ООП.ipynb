{
 "cells": [
  {
   "cell_type": "markdown",
   "metadata": {},
   "source": [
    "### ООП: Введение [Домашнее задание]\n",
    "\n",
    "Пожалуйста, создайте класс Car со следующими атрибутами: model, year, engine и методы: start_car(), stop_car()."
   ]
  },
  {
   "cell_type": "code",
   "execution_count": 12,
   "metadata": {},
   "outputs": [],
   "source": [
    "class Car:\n",
    "    model = 'Audi A4'\n",
    "    engine = '1.8-litre 20v'\n",
    "    year = 2011\n",
    "    \n",
    "    def start_car(self):\n",
    "        print(self.model , 'with' , self.engine , 'of' , self.year , 'is started')\n",
    "    def stop_car(self):\n",
    "        print(self.model , 'with' , self.engine , 'of' , self.year , 'is stopped')"
   ]
  },
  {
   "cell_type": "code",
   "execution_count": 13,
   "metadata": {},
   "outputs": [],
   "source": [
    "audi = Car()\n",
    "audi.model = \"Audi A4\"\n",
    "audi.engine = \"1.8-litre 20v\"\n",
    "audi.year = 2011"
   ]
  },
  {
   "cell_type": "code",
   "execution_count": 14,
   "metadata": {},
   "outputs": [
    {
     "name": "stdout",
     "output_type": "stream",
     "text": [
      "Audi A4 with 1.8-litre 20v of 2011 is started\n",
      "Audi A4 with 1.8-litre 20v of 2011 is stopped\n"
     ]
    }
   ],
   "source": [
    "audi.start_car()\n",
    "audi.stop_car()"
   ]
  },
  {
   "cell_type": "markdown",
   "metadata": {},
   "source": [
    "### Ожидаемый результат:\n",
    "```\n",
    "Audi A4 with 1.8-litre 20v engine of 2011 is started\n",
    "Audi A4 with 1.8-litre 20v engine of 2011 is stopped\n",
    "```"
   ]
  }
 ],
 "metadata": {
  "kernelspec": {
   "display_name": "Python 3",
   "language": "python",
   "name": "python3"
  },
  "language_info": {
   "codemirror_mode": {
    "name": "ipython",
    "version": 3
   },
   "file_extension": ".py",
   "mimetype": "text/x-python",
   "name": "python",
   "nbconvert_exporter": "python",
   "pygments_lexer": "ipython3",
   "version": "3.8.8"
  }
 },
 "nbformat": 4,
 "nbformat_minor": 2
}
